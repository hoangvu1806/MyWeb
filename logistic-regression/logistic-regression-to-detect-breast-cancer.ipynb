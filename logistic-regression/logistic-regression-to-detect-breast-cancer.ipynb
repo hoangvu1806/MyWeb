{
 "cells": [
  {
   "cell_type": "code",
   "execution_count": 1,
   "id": "ce09ce49",
   "metadata": {
    "_cell_guid": "b1076dfc-b9ad-4769-8c92-a6c4dae69d19",
    "_uuid": "8f2839f25d086af736a60e9eeb907d3b93b6e0e5",
    "execution": {
     "iopub.execute_input": "2023-12-07T16:54:37.190064Z",
     "iopub.status.busy": "2023-12-07T16:54:37.189688Z",
     "iopub.status.idle": "2023-12-07T16:54:39.366503Z",
     "shell.execute_reply": "2023-12-07T16:54:39.365291Z"
    },
    "papermill": {
     "duration": 2.19676,
     "end_time": "2023-12-07T16:54:39.368913",
     "exception": false,
     "start_time": "2023-12-07T16:54:37.172153",
     "status": "completed"
    },
    "tags": []
   },
   "outputs": [],
   "source": [
    "import numpy as np # linear algebra\n",
    "import pandas as pd # data processing, CSV file I/O (e.g. pd.read_csv)\n",
    "import matplotlib.pyplot as plt # data visualization\n",
    "import seaborn as sns # statistical data visualization\n",
    "import warnings\n"
   ]
  },
  {
   "cell_type": "markdown",
   "id": "b53f681f",
   "metadata": {
    "papermill": {
     "duration": 0.014455,
     "end_time": "2023-12-07T16:54:39.398402",
     "exception": false,
     "start_time": "2023-12-07T16:54:39.383947",
     "status": "completed"
    },
    "tags": []
   },
   "source": [
    "![](https://cdn-images-1.medium.com/max/960/1*UgYbimgPXf6XXxMy2yqRLw.png)"
   ]
  },
  {
   "cell_type": "markdown",
   "id": "100b484a",
   "metadata": {
    "papermill": {
     "duration": 0.014369,
     "end_time": "2023-12-07T16:54:39.427512",
     "exception": false,
     "start_time": "2023-12-07T16:54:39.413143",
     "status": "completed"
    },
    "tags": []
   },
   "source": [
    "![](https://images.spiceworks.com/wp-content/uploads/2022/04/11040522/46-4.png)"
   ]
  },
  {
   "cell_type": "markdown",
   "id": "acb63b0f",
   "metadata": {
    "papermill": {
     "duration": 0.01509,
     "end_time": "2023-12-07T16:54:39.457492",
     "exception": false,
     "start_time": "2023-12-07T16:54:39.442402",
     "status": "completed"
    },
    "tags": []
   },
   "source": [
    "📈 **Logistic Regression Overview** 📊\n",
    "\n",
    "**Definition:** Logistic Regression is a statistical method used for binary classification, predicting the probability of an observation belonging to one of two classes.\n",
    "\n",
    "**Nature:** Despite its name, Logistic Regression is a classification algorithm, not a regression one. It's well-suited for problems like spam detection, medical diagnosis, and more.\n",
    "\n",
    "**Function:** 📉 It employs the logistic function (sigmoid) to map input features to a value between 0 and 1, interpreting this value as the probability of the instance belonging to the positive class.\n",
    "\n",
    "**Mathematics:** 🔢 The logistic function is represented as \\( P(Y=1) = \\frac{1}{1 + e^{-(b_0 + b_1X)}} \\), where \\( P(Y=1) \\) is the probability of the positive class, \\( X \\) is the input feature, and \\( b_0, b_1 \\) are the coefficients.\n",
    "\n",
    "**Training:** 🏋️‍♂️ Coefficients are determined through iterative optimization processes like gradient descent. The goal is to maximize the likelihood function.\n",
    "\n",
    "**Decision Boundary:** 🚧 The algorithm establishes a decision boundary, classifying instances based on whether the predicted probability surpasses a certain threshold.\n",
    "\n",
    "**Multiclass Logistic Regression:** 🌐 For more than two classes, extensions like multinomial logistic regression or one-vs-rest strategies are employed.\n",
    "\n",
    "**Assumptions:** Logistic Regression assumes a linear relationship between features and the log-odds of the response variable. It is also sensitive to outliers.\n",
    "\n",
    "**Interpretability:** 💬 Coefficients in logistic regression can be interpreted as the effect of a one-unit change in the predictor on the log-odds of the response.\n",
    "\n",
    "**Use Cases:** 🧐 It's widely used in various fields, such as healthcare (disease prediction), finance (credit scoring), and social sciences (voter prediction).\n",
    "\n",
    "Logistic Regression is a robust and interpretable tool in the data scientist's arsenal, balancing simplicity and effectiveness for binary classification tasks."
   ]
  },
  {
   "cell_type": "code",
   "execution_count": 2,
   "id": "7460bdaf",
   "metadata": {
    "execution": {
     "iopub.execute_input": "2023-12-07T16:54:39.489568Z",
     "iopub.status.busy": "2023-12-07T16:54:39.489020Z",
     "iopub.status.idle": "2023-12-07T16:54:39.506272Z",
     "shell.execute_reply": "2023-12-07T16:54:39.504955Z"
    },
    "papermill": {
     "duration": 0.036058,
     "end_time": "2023-12-07T16:54:39.508771",
     "exception": false,
     "start_time": "2023-12-07T16:54:39.472713",
     "status": "completed"
    },
    "tags": []
   },
   "outputs": [],
   "source": [
    "data = r'D:\\MyWeb\\logistic-regression\\datasets\\breast_cancer.csv'\n",
    "\n",
    "df = pd.read_csv(data)"
   ]
  },
  {
   "cell_type": "markdown",
   "id": "c15afe86",
   "metadata": {
    "papermill": {
     "duration": 0.014656,
     "end_time": "2023-12-07T16:54:39.538720",
     "exception": false,
     "start_time": "2023-12-07T16:54:39.524064",
     "status": "completed"
    },
    "tags": []
   },
   "source": [
    "**Let us explore the data**"
   ]
  },
  {
   "cell_type": "code",
   "execution_count": 3,
   "id": "dea9e46c",
   "metadata": {
    "execution": {
     "iopub.execute_input": "2023-12-07T16:54:39.570477Z",
     "iopub.status.busy": "2023-12-07T16:54:39.570064Z",
     "iopub.status.idle": "2023-12-07T16:54:39.577246Z",
     "shell.execute_reply": "2023-12-07T16:54:39.576351Z"
    },
    "papermill": {
     "duration": 0.025466,
     "end_time": "2023-12-07T16:54:39.579213",
     "exception": false,
     "start_time": "2023-12-07T16:54:39.553747",
     "status": "completed"
    },
    "tags": []
   },
   "outputs": [
    {
     "data": {
      "text/plain": [
       "(683, 10)"
      ]
     },
     "execution_count": 3,
     "metadata": {},
     "output_type": "execute_result"
    }
   ],
   "source": [
    "# view dimensions\n",
    "\n",
    "df.shape"
   ]
  },
  {
   "cell_type": "code",
   "execution_count": 4,
   "id": "45882bc1",
   "metadata": {
    "execution": {
     "iopub.execute_input": "2023-12-07T16:54:39.612167Z",
     "iopub.status.busy": "2023-12-07T16:54:39.611000Z",
     "iopub.status.idle": "2023-12-07T16:54:39.634717Z",
     "shell.execute_reply": "2023-12-07T16:54:39.633565Z"
    },
    "papermill": {
     "duration": 0.042202,
     "end_time": "2023-12-07T16:54:39.636948",
     "exception": false,
     "start_time": "2023-12-07T16:54:39.594746",
     "status": "completed"
    },
    "tags": []
   },
   "outputs": [
    {
     "data": {
      "text/html": [
       "<div>\n",
       "<style scoped>\n",
       "    .dataframe tbody tr th:only-of-type {\n",
       "        vertical-align: middle;\n",
       "    }\n",
       "\n",
       "    .dataframe tbody tr th {\n",
       "        vertical-align: top;\n",
       "    }\n",
       "\n",
       "    .dataframe thead th {\n",
       "        text-align: right;\n",
       "    }\n",
       "</style>\n",
       "<table border=\"1\" class=\"dataframe\">\n",
       "  <thead>\n",
       "    <tr style=\"text-align: right;\">\n",
       "      <th></th>\n",
       "      <th>Clump Thickness</th>\n",
       "      <th>Uniformity of Cell Size</th>\n",
       "      <th>Uniformity of Cell Shape</th>\n",
       "      <th>Marginal Adhesion</th>\n",
       "      <th>Single Epithelial Cell Size</th>\n",
       "      <th>Bare Nuclei</th>\n",
       "      <th>Bland Chromatin</th>\n",
       "      <th>Normal Nucleoli</th>\n",
       "      <th>Mitoses</th>\n",
       "      <th>Class</th>\n",
       "    </tr>\n",
       "  </thead>\n",
       "  <tbody>\n",
       "    <tr>\n",
       "      <th>0</th>\n",
       "      <td>5</td>\n",
       "      <td>1</td>\n",
       "      <td>1</td>\n",
       "      <td>1</td>\n",
       "      <td>2</td>\n",
       "      <td>1</td>\n",
       "      <td>3</td>\n",
       "      <td>1</td>\n",
       "      <td>1</td>\n",
       "      <td>2</td>\n",
       "    </tr>\n",
       "    <tr>\n",
       "      <th>1</th>\n",
       "      <td>5</td>\n",
       "      <td>4</td>\n",
       "      <td>4</td>\n",
       "      <td>5</td>\n",
       "      <td>7</td>\n",
       "      <td>10</td>\n",
       "      <td>3</td>\n",
       "      <td>2</td>\n",
       "      <td>1</td>\n",
       "      <td>2</td>\n",
       "    </tr>\n",
       "    <tr>\n",
       "      <th>2</th>\n",
       "      <td>3</td>\n",
       "      <td>1</td>\n",
       "      <td>1</td>\n",
       "      <td>1</td>\n",
       "      <td>2</td>\n",
       "      <td>2</td>\n",
       "      <td>3</td>\n",
       "      <td>1</td>\n",
       "      <td>1</td>\n",
       "      <td>2</td>\n",
       "    </tr>\n",
       "    <tr>\n",
       "      <th>3</th>\n",
       "      <td>6</td>\n",
       "      <td>8</td>\n",
       "      <td>8</td>\n",
       "      <td>1</td>\n",
       "      <td>3</td>\n",
       "      <td>4</td>\n",
       "      <td>3</td>\n",
       "      <td>7</td>\n",
       "      <td>1</td>\n",
       "      <td>2</td>\n",
       "    </tr>\n",
       "    <tr>\n",
       "      <th>4</th>\n",
       "      <td>4</td>\n",
       "      <td>1</td>\n",
       "      <td>1</td>\n",
       "      <td>3</td>\n",
       "      <td>2</td>\n",
       "      <td>1</td>\n",
       "      <td>3</td>\n",
       "      <td>1</td>\n",
       "      <td>1</td>\n",
       "      <td>2</td>\n",
       "    </tr>\n",
       "  </tbody>\n",
       "</table>\n",
       "</div>"
      ],
      "text/plain": [
       "   Clump Thickness  Uniformity of Cell Size  Uniformity of Cell Shape  \\\n",
       "0                5                        1                         1   \n",
       "1                5                        4                         4   \n",
       "2                3                        1                         1   \n",
       "3                6                        8                         8   \n",
       "4                4                        1                         1   \n",
       "\n",
       "   Marginal Adhesion  Single Epithelial Cell Size  Bare Nuclei  \\\n",
       "0                  1                            2            1   \n",
       "1                  5                            7           10   \n",
       "2                  1                            2            2   \n",
       "3                  1                            3            4   \n",
       "4                  3                            2            1   \n",
       "\n",
       "   Bland Chromatin  Normal Nucleoli  Mitoses  Class  \n",
       "0                3                1        1      2  \n",
       "1                3                2        1      2  \n",
       "2                3                1        1      2  \n",
       "3                3                7        1      2  \n",
       "4                3                1        1      2  "
      ]
     },
     "execution_count": 4,
     "metadata": {},
     "output_type": "execute_result"
    }
   ],
   "source": [
    "# preview sample of the dataset\n",
    "\n",
    "df.head()"
   ]
  },
  {
   "cell_type": "code",
   "execution_count": 5,
   "id": "c4f6cc66",
   "metadata": {
    "execution": {
     "iopub.execute_input": "2023-12-07T16:54:39.669536Z",
     "iopub.status.busy": "2023-12-07T16:54:39.668921Z",
     "iopub.status.idle": "2023-12-07T16:54:39.675680Z",
     "shell.execute_reply": "2023-12-07T16:54:39.674608Z"
    },
    "papermill": {
     "duration": 0.025495,
     "end_time": "2023-12-07T16:54:39.677767",
     "exception": false,
     "start_time": "2023-12-07T16:54:39.652272",
     "status": "completed"
    },
    "tags": []
   },
   "outputs": [
    {
     "data": {
      "text/plain": [
       "Index(['Clump Thickness', 'Uniformity of Cell Size',\n",
       "       'Uniformity of Cell Shape', 'Marginal Adhesion',\n",
       "       'Single Epithelial Cell Size', 'Bare Nuclei', 'Bland Chromatin',\n",
       "       'Normal Nucleoli', 'Mitoses', 'Class'],\n",
       "      dtype='object')"
      ]
     },
     "execution_count": 5,
     "metadata": {},
     "output_type": "execute_result"
    }
   ],
   "source": [
    "# column names\n",
    "df.columns"
   ]
  },
  {
   "cell_type": "markdown",
   "id": "d85b1e24",
   "metadata": {
    "papermill": {
     "duration": 0.015039,
     "end_time": "2023-12-07T16:54:39.708586",
     "exception": false,
     "start_time": "2023-12-07T16:54:39.693547",
     "status": "completed"
    },
    "tags": []
   },
   "source": [
    "Columns meaning \n",
    "\n",
    "**Clump thickness**\n",
    "is a measure of how thick the cells are within a tumor. Benign cells tend to be grouped in mono-layers, while cancerous - in multi-layer.(Sarkar et al. 2017, p. 1)\n",
    "\n",
    "**Uniformity**\n",
    "of cell size and uniformity of cell shape are two characteristics that can be used to describe the appearance of cells under a microscope. Here we are checking the degree to which the cells in a sample are similar in size and shape.\n",
    "\n",
    "**Marginal adhesion**\n",
    "is the degree to which cells in a tissue sample adhere, or stick, to one another at the edges of the sample. Loss of adhesion might be a sign of malignancy.\n",
    "\n",
    "**Single**\n",
    "epithelial cell size is the size of individual cells in an epithelial tissue sample. Epithelial tissue is a type of tissue that covers the surface of the body and lines internal organs and structures. It is made up of cells that are tightly packed together and held in place by specialized junctions.\n",
    "\n",
    "**Bare nuclei**\n",
    "refers to cells in a tissue sample that are missing their cell membranes and cytoplasm, leaving only the nucleus visible.\n",
    "\n",
    "**Bland**\n",
    "chromatin is the appearance of the genetic material (chromatin) in the nucleus of a cell under a microscope. Chromatin is made up of DNA and proteins, and it contains the genetic information that controls the cell’s functions. When the chromatin in a cell’s nucleus is compact and uniform in appearance, it is said to be “bland.”\n",
    "\n",
    "**Normal**\n",
    "nucleoli are small, spherical structures found within the nucleus of a cell. They are composed of DNA, RNA, and proteins and are responsible for synthesizing ribosomes, which are the cellular structures that produce proteins. Nucleoli are usually visible under a microscope and can vary in size and appearance depending on the stage of the cell cycle and the cell’s function. In normal, healthy cells, nucleoli are usually small and have a distinct, well-defined border.\n",
    "\n",
    "**Mitosis**\n",
    "is the process of cell division that occurs in all living organisms. During mitosis, a single cell divides into two daughter cells, each of which contains a copy of the parent cell’s DNA. The process of mitosis is essential for the growth and repair of tissues and the production of new cells."
   ]
  },
  {
   "cell_type": "code",
   "execution_count": 6,
   "id": "214d401b",
   "metadata": {
    "execution": {
     "iopub.execute_input": "2023-12-07T16:54:39.804163Z",
     "iopub.status.busy": "2023-12-07T16:54:39.803464Z",
     "iopub.status.idle": "2023-12-07T16:54:39.832304Z",
     "shell.execute_reply": "2023-12-07T16:54:39.831093Z"
    },
    "papermill": {
     "duration": 0.11106,
     "end_time": "2023-12-07T16:54:39.834982",
     "exception": false,
     "start_time": "2023-12-07T16:54:39.723922",
     "status": "completed"
    },
    "tags": []
   },
   "outputs": [
    {
     "name": "stdout",
     "output_type": "stream",
     "text": [
      "<class 'pandas.core.frame.DataFrame'>\n",
      "RangeIndex: 683 entries, 0 to 682\n",
      "Data columns (total 10 columns):\n",
      " #   Column                       Non-Null Count  Dtype\n",
      "---  ------                       --------------  -----\n",
      " 0   Clump Thickness              683 non-null    int64\n",
      " 1   Uniformity of Cell Size      683 non-null    int64\n",
      " 2   Uniformity of Cell Shape     683 non-null    int64\n",
      " 3   Marginal Adhesion            683 non-null    int64\n",
      " 4   Single Epithelial Cell Size  683 non-null    int64\n",
      " 5   Bare Nuclei                  683 non-null    int64\n",
      " 6   Bland Chromatin              683 non-null    int64\n",
      " 7   Normal Nucleoli              683 non-null    int64\n",
      " 8   Mitoses                      683 non-null    int64\n",
      " 9   Class                        683 non-null    int64\n",
      "dtypes: int64(10)\n",
      "memory usage: 53.5 KB\n"
     ]
    }
   ],
   "source": [
    "#summary\n",
    "df.info()"
   ]
  },
  {
   "cell_type": "code",
   "execution_count": 7,
   "id": "43c21984",
   "metadata": {
    "execution": {
     "iopub.execute_input": "2023-12-07T16:54:39.869601Z",
     "iopub.status.busy": "2023-12-07T16:54:39.869160Z",
     "iopub.status.idle": "2023-12-07T16:54:39.909472Z",
     "shell.execute_reply": "2023-12-07T16:54:39.908684Z"
    },
    "papermill": {
     "duration": 0.060207,
     "end_time": "2023-12-07T16:54:39.911588",
     "exception": false,
     "start_time": "2023-12-07T16:54:39.851381",
     "status": "completed"
    },
    "tags": []
   },
   "outputs": [
    {
     "data": {
      "text/html": [
       "<div>\n",
       "<style scoped>\n",
       "    .dataframe tbody tr th:only-of-type {\n",
       "        vertical-align: middle;\n",
       "    }\n",
       "\n",
       "    .dataframe tbody tr th {\n",
       "        vertical-align: top;\n",
       "    }\n",
       "\n",
       "    .dataframe thead th {\n",
       "        text-align: right;\n",
       "    }\n",
       "</style>\n",
       "<table border=\"1\" class=\"dataframe\">\n",
       "  <thead>\n",
       "    <tr style=\"text-align: right;\">\n",
       "      <th></th>\n",
       "      <th>Clump Thickness</th>\n",
       "      <th>Uniformity of Cell Size</th>\n",
       "      <th>Uniformity of Cell Shape</th>\n",
       "      <th>Marginal Adhesion</th>\n",
       "      <th>Single Epithelial Cell Size</th>\n",
       "      <th>Bare Nuclei</th>\n",
       "      <th>Bland Chromatin</th>\n",
       "      <th>Normal Nucleoli</th>\n",
       "      <th>Mitoses</th>\n",
       "      <th>Class</th>\n",
       "    </tr>\n",
       "  </thead>\n",
       "  <tbody>\n",
       "    <tr>\n",
       "      <th>count</th>\n",
       "      <td>683.000000</td>\n",
       "      <td>683.000000</td>\n",
       "      <td>683.000000</td>\n",
       "      <td>683.000000</td>\n",
       "      <td>683.000000</td>\n",
       "      <td>683.000000</td>\n",
       "      <td>683.000000</td>\n",
       "      <td>683.000000</td>\n",
       "      <td>683.000000</td>\n",
       "      <td>683.000000</td>\n",
       "    </tr>\n",
       "    <tr>\n",
       "      <th>mean</th>\n",
       "      <td>4.442167</td>\n",
       "      <td>3.150805</td>\n",
       "      <td>3.215227</td>\n",
       "      <td>2.830161</td>\n",
       "      <td>3.234261</td>\n",
       "      <td>3.544656</td>\n",
       "      <td>3.445095</td>\n",
       "      <td>2.869693</td>\n",
       "      <td>1.603221</td>\n",
       "      <td>2.699854</td>\n",
       "    </tr>\n",
       "    <tr>\n",
       "      <th>std</th>\n",
       "      <td>2.820761</td>\n",
       "      <td>3.065145</td>\n",
       "      <td>2.988581</td>\n",
       "      <td>2.864562</td>\n",
       "      <td>2.223085</td>\n",
       "      <td>3.643857</td>\n",
       "      <td>2.449697</td>\n",
       "      <td>3.052666</td>\n",
       "      <td>1.732674</td>\n",
       "      <td>0.954592</td>\n",
       "    </tr>\n",
       "    <tr>\n",
       "      <th>min</th>\n",
       "      <td>1.000000</td>\n",
       "      <td>1.000000</td>\n",
       "      <td>1.000000</td>\n",
       "      <td>1.000000</td>\n",
       "      <td>1.000000</td>\n",
       "      <td>1.000000</td>\n",
       "      <td>1.000000</td>\n",
       "      <td>1.000000</td>\n",
       "      <td>1.000000</td>\n",
       "      <td>2.000000</td>\n",
       "    </tr>\n",
       "    <tr>\n",
       "      <th>25%</th>\n",
       "      <td>2.000000</td>\n",
       "      <td>1.000000</td>\n",
       "      <td>1.000000</td>\n",
       "      <td>1.000000</td>\n",
       "      <td>2.000000</td>\n",
       "      <td>1.000000</td>\n",
       "      <td>2.000000</td>\n",
       "      <td>1.000000</td>\n",
       "      <td>1.000000</td>\n",
       "      <td>2.000000</td>\n",
       "    </tr>\n",
       "    <tr>\n",
       "      <th>50%</th>\n",
       "      <td>4.000000</td>\n",
       "      <td>1.000000</td>\n",
       "      <td>1.000000</td>\n",
       "      <td>1.000000</td>\n",
       "      <td>2.000000</td>\n",
       "      <td>1.000000</td>\n",
       "      <td>3.000000</td>\n",
       "      <td>1.000000</td>\n",
       "      <td>1.000000</td>\n",
       "      <td>2.000000</td>\n",
       "    </tr>\n",
       "    <tr>\n",
       "      <th>75%</th>\n",
       "      <td>6.000000</td>\n",
       "      <td>5.000000</td>\n",
       "      <td>5.000000</td>\n",
       "      <td>4.000000</td>\n",
       "      <td>4.000000</td>\n",
       "      <td>6.000000</td>\n",
       "      <td>5.000000</td>\n",
       "      <td>4.000000</td>\n",
       "      <td>1.000000</td>\n",
       "      <td>4.000000</td>\n",
       "    </tr>\n",
       "    <tr>\n",
       "      <th>max</th>\n",
       "      <td>10.000000</td>\n",
       "      <td>10.000000</td>\n",
       "      <td>10.000000</td>\n",
       "      <td>10.000000</td>\n",
       "      <td>10.000000</td>\n",
       "      <td>10.000000</td>\n",
       "      <td>10.000000</td>\n",
       "      <td>10.000000</td>\n",
       "      <td>10.000000</td>\n",
       "      <td>4.000000</td>\n",
       "    </tr>\n",
       "  </tbody>\n",
       "</table>\n",
       "</div>"
      ],
      "text/plain": [
       "       Clump Thickness  Uniformity of Cell Size  Uniformity of Cell Shape  \\\n",
       "count       683.000000               683.000000                683.000000   \n",
       "mean          4.442167                 3.150805                  3.215227   \n",
       "std           2.820761                 3.065145                  2.988581   \n",
       "min           1.000000                 1.000000                  1.000000   \n",
       "25%           2.000000                 1.000000                  1.000000   \n",
       "50%           4.000000                 1.000000                  1.000000   \n",
       "75%           6.000000                 5.000000                  5.000000   \n",
       "max          10.000000                10.000000                 10.000000   \n",
       "\n",
       "       Marginal Adhesion  Single Epithelial Cell Size  Bare Nuclei  \\\n",
       "count         683.000000                   683.000000   683.000000   \n",
       "mean            2.830161                     3.234261     3.544656   \n",
       "std             2.864562                     2.223085     3.643857   \n",
       "min             1.000000                     1.000000     1.000000   \n",
       "25%             1.000000                     2.000000     1.000000   \n",
       "50%             1.000000                     2.000000     1.000000   \n",
       "75%             4.000000                     4.000000     6.000000   \n",
       "max            10.000000                    10.000000    10.000000   \n",
       "\n",
       "       Bland Chromatin  Normal Nucleoli     Mitoses       Class  \n",
       "count       683.000000       683.000000  683.000000  683.000000  \n",
       "mean          3.445095         2.869693    1.603221    2.699854  \n",
       "std           2.449697         3.052666    1.732674    0.954592  \n",
       "min           1.000000         1.000000    1.000000    2.000000  \n",
       "25%           2.000000         1.000000    1.000000    2.000000  \n",
       "50%           3.000000         1.000000    1.000000    2.000000  \n",
       "75%           5.000000         4.000000    1.000000    4.000000  \n",
       "max          10.000000        10.000000   10.000000    4.000000  "
      ]
     },
     "execution_count": 7,
     "metadata": {},
     "output_type": "execute_result"
    }
   ],
   "source": [
    "df.describe()"
   ]
  },
  {
   "cell_type": "markdown",
   "id": "ea93c944",
   "metadata": {
    "papermill": {
     "duration": 0.015963,
     "end_time": "2023-12-07T16:54:39.943764",
     "exception": false,
     "start_time": "2023-12-07T16:54:39.927801",
     "status": "completed"
    },
    "tags": []
   },
   "source": [
    "**Check for missing values**"
   ]
  },
  {
   "cell_type": "code",
   "execution_count": 8,
   "id": "f2d9b54d",
   "metadata": {
    "execution": {
     "iopub.execute_input": "2023-12-07T16:54:39.978370Z",
     "iopub.status.busy": "2023-12-07T16:54:39.977720Z",
     "iopub.status.idle": "2023-12-07T16:54:39.985345Z",
     "shell.execute_reply": "2023-12-07T16:54:39.984269Z"
    },
    "papermill": {
     "duration": 0.028063,
     "end_time": "2023-12-07T16:54:39.988421",
     "exception": false,
     "start_time": "2023-12-07T16:54:39.960358",
     "status": "completed"
    },
    "tags": []
   },
   "outputs": [
    {
     "data": {
      "text/plain": [
       "Clump Thickness                0\n",
       "Uniformity of Cell Size        0\n",
       "Uniformity of Cell Shape       0\n",
       "Marginal Adhesion              0\n",
       "Single Epithelial Cell Size    0\n",
       "Bare Nuclei                    0\n",
       "Bland Chromatin                0\n",
       "Normal Nucleoli                0\n",
       "Mitoses                        0\n",
       "Class                          0\n",
       "dtype: int64"
      ]
     },
     "execution_count": 8,
     "metadata": {},
     "output_type": "execute_result"
    }
   ],
   "source": [
    "df.isna().sum()"
   ]
  },
  {
   "cell_type": "code",
   "execution_count": 9,
   "id": "189b9523",
   "metadata": {
    "execution": {
     "iopub.execute_input": "2023-12-07T16:54:40.023313Z",
     "iopub.status.busy": "2023-12-07T16:54:40.022887Z",
     "iopub.status.idle": "2023-12-07T16:54:40.133185Z",
     "shell.execute_reply": "2023-12-07T16:54:40.131412Z"
    },
    "papermill": {
     "duration": 0.13041,
     "end_time": "2023-12-07T16:54:40.135671",
     "exception": false,
     "start_time": "2023-12-07T16:54:40.005261",
     "status": "completed"
    },
    "tags": []
   },
   "outputs": [
    {
     "name": "stdout",
     "output_type": "stream",
     "text": [
      "       Clump Thickness  Uniformity of Cell Size  Uniformity of Cell Shape  \\\n",
      "count           683.00                   683.00                    683.00   \n",
      "mean              4.44                     3.15                      3.22   \n",
      "std               2.82                     3.07                      2.99   \n",
      "min               1.00                     1.00                      1.00   \n",
      "25%               2.00                     1.00                      1.00   \n",
      "50%               4.00                     1.00                      1.00   \n",
      "75%               6.00                     5.00                      5.00   \n",
      "max              10.00                    10.00                     10.00   \n",
      "\n",
      "       Marginal Adhesion  Single Epithelial Cell Size  Bare Nuclei  \\\n",
      "count             683.00                       683.00       683.00   \n",
      "mean                2.83                         3.23         3.54   \n",
      "std                 2.86                         2.22         3.64   \n",
      "min                 1.00                         1.00         1.00   \n",
      "25%                 1.00                         2.00         1.00   \n",
      "50%                 1.00                         2.00         1.00   \n",
      "75%                 4.00                         4.00         6.00   \n",
      "max                10.00                        10.00        10.00   \n",
      "\n",
      "       Bland Chromatin  Normal Nucleoli  Mitoses   Class  \n",
      "count           683.00           683.00   683.00  683.00  \n",
      "mean              3.45             2.87     1.60    2.70  \n",
      "std               2.45             3.05     1.73    0.95  \n",
      "min               1.00             1.00     1.00    2.00  \n",
      "25%               2.00             1.00     1.00    2.00  \n",
      "50%               3.00             1.00     1.00    2.00  \n",
      "75%               5.00             4.00     1.00    4.00  \n",
      "max              10.00            10.00    10.00    4.00  \n"
     ]
    }
   ],
   "source": [
    "print(round(df.describe(),2))"
   ]
  },
  {
   "cell_type": "code",
   "execution_count": 51,
   "id": "71489a58",
   "metadata": {
    "execution": {
     "iopub.execute_input": "2023-12-07T16:54:40.171056Z",
     "iopub.status.busy": "2023-12-07T16:54:40.170651Z",
     "iopub.status.idle": "2023-12-07T16:54:40.873926Z",
     "shell.execute_reply": "2023-12-07T16:54:40.872607Z"
    },
    "papermill": {
     "duration": 0.725064,
     "end_time": "2023-12-07T16:54:40.877921",
     "exception": false,
     "start_time": "2023-12-07T16:54:40.152857",
     "status": "completed"
    },
    "tags": []
   },
   "outputs": [
    {
     "data": {
      "text/plain": [
       "Text(0, 0.5, 'Marginal Adhesion')"
      ]
     },
     "execution_count": 51,
     "metadata": {},
     "output_type": "execute_result"
    },
    {
     "data": {
      "image/png": "[encoded data removed]",
      "text/plain": [
       "<Figure size 1500x1000 with 4 Axes>"
      ]
     },
     "metadata": {},
     "output_type": "display_data"
    }
   ],
   "source": [
    "# draw boxplots to visualize outliers\n",
    "\n",
    "plt.figure(figsize=(15,10))\n",
    "\n",
    "\n",
    "plt.subplot(2, 2, 1)\n",
    "fig = df.boxplot(column='Clump Thickness')\n",
    "fig.set_title('')\n",
    "fig.set_ylabel('Clump Thickness')\n",
    "\n",
    "\n",
    "plt.subplot(2, 2, 2)\n",
    "fig = df.boxplot(column='Uniformity of Cell Size')\n",
    "fig.set_title('')\n",
    "fig.set_ylabel('Uniformity of Cell Size')\n",
    "\n",
    "\n",
    "plt.subplot(2, 2, 3)\n",
    "fig = df.boxplot(column='Uniformity of Cell Shape')\n",
    "fig.set_title('')\n",
    "fig.set_ylabel('Uniformity of Cell Shape')\n",
    "\n",
    "\n",
    "plt.subplot(2, 2, 4)\n",
    "fig = df.boxplot(column='Marginal Adhesion')\n",
    "fig.set_title('')\n",
    "fig.set_ylabel('Marginal Adhesion')"
   ]
  },
  {
   "cell_type": "code",
   "execution_count": 52,
   "id": "ffffdd5e",
   "metadata": {
    "execution": {
     "iopub.execute_input": "2023-12-07T16:54:40.920732Z",
     "iopub.status.busy": "2023-12-07T16:54:40.920308Z",
     "iopub.status.idle": "2023-12-07T16:54:41.906797Z",
     "shell.execute_reply": "2023-12-07T16:54:41.905498Z"
    },
    "papermill": {
     "duration": 1.009118,
     "end_time": "2023-12-07T16:54:41.909355",
     "exception": false,
     "start_time": "2023-12-07T16:54:40.900237",
     "status": "completed"
    },
    "tags": []
   },
   "outputs": [
    {
     "data": {
      "text/plain": [
       "Text(0, 0.5, 'Class')"
      ]
     },
     "execution_count": 52,
     "metadata": {},
     "output_type": "execute_result"
    },
    {
     "data": {
      "image/png": "[encoded data removed]",
      "text/plain": [
       "<Figure size 1500x1000 with 6 Axes>"
      ]
     },
     "metadata": {},
     "output_type": "display_data"
    }
   ],
   "source": [
    "# draw boxplots to visualize outliers\n",
    "\n",
    "plt.figure(figsize=(15,10))\n",
    "\n",
    "\n",
    "plt.subplot(2, 3, 1)\n",
    "fig = df.boxplot(column='Single Epithelial Cell Size')\n",
    "fig.set_title('')\n",
    "fig.set_ylabel('Single Epithelial Cell Size')\n",
    "\n",
    "\n",
    "plt.subplot(2, 3, 2)\n",
    "fig = df.boxplot(column='Bare Nuclei')\n",
    "fig.set_title('')\n",
    "fig.set_ylabel('Bare Nuclei')\n",
    "\n",
    "\n",
    "plt.subplot(2, 3, 3)\n",
    "fig = df.boxplot(column='Bland Chromatin')\n",
    "fig.set_title('')\n",
    "fig.set_ylabel('Bland Chromatin')\n",
    "\n",
    "\n",
    "plt.subplot(2, 3, 4)\n",
    "fig = df.boxplot(column='Normal Nucleoli')\n",
    "fig.set_title('')\n",
    "fig.set_ylabel('Normal Nucleoli')\n",
    "\n",
    "plt.subplot(2, 3, 5)\n",
    "fig = df.boxplot(column='Mitoses')\n",
    "fig.set_title('')\n",
    "fig.set_ylabel('Mitoses')\n",
    "\n",
    "plt.subplot(2, 3, 6)\n",
    "fig = df.boxplot(column='Class')\n",
    "fig.set_title('')\n",
    "fig.set_ylabel('Class')"
   ]
  },
  {
   "cell_type": "markdown",
   "id": "51e80733",
   "metadata": {
    "papermill": {
     "duration": 0.018174,
     "end_time": "2023-12-07T16:54:41.946123",
     "exception": false,
     "start_time": "2023-12-07T16:54:41.927949",
     "status": "completed"
    },
    "tags": []
   },
   "source": [
    "there are very few outliers so we can keep it "
   ]
  },
  {
   "cell_type": "code",
   "execution_count": 12,
   "id": "c20b2dd6",
   "metadata": {
    "execution": {
     "iopub.execute_input": "2023-12-07T16:54:41.985657Z",
     "iopub.status.busy": "2023-12-07T16:54:41.984474Z",
     "iopub.status.idle": "2023-12-07T16:54:41.992679Z",
     "shell.execute_reply": "2023-12-07T16:54:41.991608Z"
    },
    "papermill": {
     "duration": 0.030074,
     "end_time": "2023-12-07T16:54:41.994802",
     "exception": false,
     "start_time": "2023-12-07T16:54:41.964728",
     "status": "completed"
    },
    "tags": []
   },
   "outputs": [
    {
     "data": {
      "text/plain": [
       "Class\n",
       "2    444\n",
       "4    239\n",
       "Name: count, dtype: int64"
      ]
     },
     "execution_count": 12,
     "metadata": {},
     "output_type": "execute_result"
    }
   ],
   "source": [
    "df['Class'].value_counts()"
   ]
  },
  {
   "cell_type": "markdown",
   "id": "84482baa",
   "metadata": {
    "papermill": {
     "duration": 0.018082,
     "end_time": "2023-12-07T16:54:42.031401",
     "exception": false,
     "start_time": "2023-12-07T16:54:42.013319",
     "status": "completed"
    },
    "tags": []
   },
   "source": [
    "values refer to ‘malignant’ = 4 -likely breast cancer or ‘benign’ = 2 - likely not breast cancer. Let is replace 2 with 0 and 4 with 1."
   ]
  },
  {
   "cell_type": "code",
   "execution_count": 13,
   "id": "52e9aa9f",
   "metadata": {
    "execution": {
     "iopub.execute_input": "2023-12-07T16:54:42.071317Z",
     "iopub.status.busy": "2023-12-07T16:54:42.069976Z",
     "iopub.status.idle": "2023-12-07T16:54:42.077416Z",
     "shell.execute_reply": "2023-12-07T16:54:42.076253Z"
    },
    "papermill": {
     "duration": 0.03021,
     "end_time": "2023-12-07T16:54:42.079983",
     "exception": false,
     "start_time": "2023-12-07T16:54:42.049773",
     "status": "completed"
    },
    "tags": []
   },
   "outputs": [
    {
     "name": "stderr",
     "output_type": "stream",
     "text": [
      "C:\\Users\\Admin\\AppData\\Local\\Temp\\ipykernel_11628\\3097048679.py:1: FutureWarning: A value is trying to be set on a copy of a DataFrame or Series through chained assignment using an inplace method.\n",
      "The behavior will change in pandas 3.0. This inplace method will never work because the intermediate object on which we are setting values always behaves as a copy.\n",
      "\n",
      "For example, when doing 'df[col].method(value, inplace=True)', try using 'df.method({col: value}, inplace=True)' or df[col] = df[col].method(value) instead, to perform the operation inplace on the original object.\n",
      "\n",
      "\n",
      "  df['Class'].replace(2,0,inplace=True)\n",
      "C:\\Users\\Admin\\AppData\\Local\\Temp\\ipykernel_11628\\3097048679.py:2: FutureWarning: A value is trying to be set on a copy of a DataFrame or Series through chained assignment using an inplace method.\n",
      "The behavior will change in pandas 3.0. This inplace method will never work because the intermediate object on which we are setting values always behaves as a copy.\n",
      "\n",
      "For example, when doing 'df[col].method(value, inplace=True)', try using 'df.method({col: value}, inplace=True)' or df[col] = df[col].method(value) instead, to perform the operation inplace on the original object.\n",
      "\n",
      "\n",
      "  df['Class'].replace(4,1,inplace=True)\n"
     ]
    }
   ],
   "source": [
    "df['Class'].replace(2,0,inplace=True)\n",
    "df['Class'].replace(4,1,inplace=True)"
   ]
  },
  {
   "cell_type": "code",
   "execution_count": 14,
   "id": "bc7f085c",
   "metadata": {
    "execution": {
     "iopub.execute_input": "2023-12-07T16:54:42.119807Z",
     "iopub.status.busy": "2023-12-07T16:54:42.119359Z",
     "iopub.status.idle": "2023-12-07T16:54:42.132572Z",
     "shell.execute_reply": "2023-12-07T16:54:42.131588Z"
    },
    "papermill": {
     "duration": 0.036238,
     "end_time": "2023-12-07T16:54:42.134715",
     "exception": false,
     "start_time": "2023-12-07T16:54:42.098477",
     "status": "completed"
    },
    "tags": []
   },
   "outputs": [
    {
     "data": {
      "text/html": [
       "<div>\n",
       "<style scoped>\n",
       "    .dataframe tbody tr th:only-of-type {\n",
       "        vertical-align: middle;\n",
       "    }\n",
       "\n",
       "    .dataframe tbody tr th {\n",
       "        vertical-align: top;\n",
       "    }\n",
       "\n",
       "    .dataframe thead th {\n",
       "        text-align: right;\n",
       "    }\n",
       "</style>\n",
       "<table border=\"1\" class=\"dataframe\">\n",
       "  <thead>\n",
       "    <tr style=\"text-align: right;\">\n",
       "      <th></th>\n",
       "      <th>Clump Thickness</th>\n",
       "      <th>Uniformity of Cell Size</th>\n",
       "      <th>Uniformity of Cell Shape</th>\n",
       "      <th>Marginal Adhesion</th>\n",
       "      <th>Single Epithelial Cell Size</th>\n",
       "      <th>Bare Nuclei</th>\n",
       "      <th>Bland Chromatin</th>\n",
       "      <th>Normal Nucleoli</th>\n",
       "      <th>Mitoses</th>\n",
       "      <th>Class</th>\n",
       "    </tr>\n",
       "  </thead>\n",
       "  <tbody>\n",
       "    <tr>\n",
       "      <th>0</th>\n",
       "      <td>5</td>\n",
       "      <td>1</td>\n",
       "      <td>1</td>\n",
       "      <td>1</td>\n",
       "      <td>2</td>\n",
       "      <td>1</td>\n",
       "      <td>3</td>\n",
       "      <td>1</td>\n",
       "      <td>1</td>\n",
       "      <td>0</td>\n",
       "    </tr>\n",
       "    <tr>\n",
       "      <th>1</th>\n",
       "      <td>5</td>\n",
       "      <td>4</td>\n",
       "      <td>4</td>\n",
       "      <td>5</td>\n",
       "      <td>7</td>\n",
       "      <td>10</td>\n",
       "      <td>3</td>\n",
       "      <td>2</td>\n",
       "      <td>1</td>\n",
       "      <td>0</td>\n",
       "    </tr>\n",
       "    <tr>\n",
       "      <th>2</th>\n",
       "      <td>3</td>\n",
       "      <td>1</td>\n",
       "      <td>1</td>\n",
       "      <td>1</td>\n",
       "      <td>2</td>\n",
       "      <td>2</td>\n",
       "      <td>3</td>\n",
       "      <td>1</td>\n",
       "      <td>1</td>\n",
       "      <td>0</td>\n",
       "    </tr>\n",
       "    <tr>\n",
       "      <th>3</th>\n",
       "      <td>6</td>\n",
       "      <td>8</td>\n",
       "      <td>8</td>\n",
       "      <td>1</td>\n",
       "      <td>3</td>\n",
       "      <td>4</td>\n",
       "      <td>3</td>\n",
       "      <td>7</td>\n",
       "      <td>1</td>\n",
       "      <td>0</td>\n",
       "    </tr>\n",
       "    <tr>\n",
       "      <th>4</th>\n",
       "      <td>4</td>\n",
       "      <td>1</td>\n",
       "      <td>1</td>\n",
       "      <td>3</td>\n",
       "      <td>2</td>\n",
       "      <td>1</td>\n",
       "      <td>3</td>\n",
       "      <td>1</td>\n",
       "      <td>1</td>\n",
       "      <td>0</td>\n",
       "    </tr>\n",
       "  </tbody>\n",
       "</table>\n",
       "</div>"
      ],
      "text/plain": [
       "   Clump Thickness  Uniformity of Cell Size  Uniformity of Cell Shape  \\\n",
       "0                5                        1                         1   \n",
       "1                5                        4                         4   \n",
       "2                3                        1                         1   \n",
       "3                6                        8                         8   \n",
       "4                4                        1                         1   \n",
       "\n",
       "   Marginal Adhesion  Single Epithelial Cell Size  Bare Nuclei  \\\n",
       "0                  1                            2            1   \n",
       "1                  5                            7           10   \n",
       "2                  1                            2            2   \n",
       "3                  1                            3            4   \n",
       "4                  3                            2            1   \n",
       "\n",
       "   Bland Chromatin  Normal Nucleoli  Mitoses  Class  \n",
       "0                3                1        1      0  \n",
       "1                3                2        1      0  \n",
       "2                3                1        1      0  \n",
       "3                3                7        1      0  \n",
       "4                3                1        1      0  "
      ]
     },
     "execution_count": 14,
     "metadata": {},
     "output_type": "execute_result"
    }
   ],
   "source": [
    "df.head()"
   ]
  },
  {
   "cell_type": "markdown",
   "id": "8d4a6334",
   "metadata": {
    "papermill": {
     "duration": 0.01832,
     "end_time": "2023-12-07T16:54:42.172419",
     "exception": false,
     "start_time": "2023-12-07T16:54:42.154099",
     "status": "completed"
    },
    "tags": []
   },
   "source": [
    "**Model Building**"
   ]
  },
  {
   "cell_type": "markdown",
   "id": "7aff1226",
   "metadata": {
    "papermill": {
     "duration": 0.019063,
     "end_time": "2023-12-07T16:54:42.210842",
     "exception": false,
     "start_time": "2023-12-07T16:54:42.191779",
     "status": "completed"
    },
    "tags": []
   },
   "source": [
    "![](https://miro.medium.com/v2/resize:fit:930/0*YDCWur7LWU64ACYn.png)"
   ]
  },
  {
   "cell_type": "code",
   "execution_count": 15,
   "id": "bacaec79",
   "metadata": {
    "execution": {
     "iopub.execute_input": "2023-12-07T16:54:42.250663Z",
     "iopub.status.busy": "2023-12-07T16:54:42.249559Z",
     "iopub.status.idle": "2023-12-07T16:54:42.255894Z",
     "shell.execute_reply": "2023-12-07T16:54:42.254806Z"
    },
    "papermill": {
     "duration": 0.028278,
     "end_time": "2023-12-07T16:54:42.257993",
     "exception": false,
     "start_time": "2023-12-07T16:54:42.229715",
     "status": "completed"
    },
    "tags": []
   },
   "outputs": [],
   "source": [
    "X = df.drop(['Class'], axis=1)\n",
    "\n",
    "y = df['Class']"
   ]
  },
  {
   "cell_type": "code",
   "execution_count": 16,
   "id": "4a8f14f9",
   "metadata": {
    "execution": {
     "iopub.execute_input": "2023-12-07T16:54:42.298415Z",
     "iopub.status.busy": "2023-12-07T16:54:42.298042Z",
     "iopub.status.idle": "2023-12-07T16:54:42.571497Z",
     "shell.execute_reply": "2023-12-07T16:54:42.570297Z"
    },
    "papermill": {
     "duration": 0.296942,
     "end_time": "2023-12-07T16:54:42.574319",
     "exception": false,
     "start_time": "2023-12-07T16:54:42.277377",
     "status": "completed"
    },
    "tags": []
   },
   "outputs": [],
   "source": [
    "# split X and y into training and testing sets\n",
    "\n",
    "from sklearn.model_selection import train_test_split\n",
    "\n",
    "X_train, X_test, y_train, y_test = train_test_split(X, y, test_size = 0.25, random_state = 0)"
   ]
  },
  {
   "cell_type": "code",
   "execution_count": 17,
   "id": "0c888993",
   "metadata": {
    "execution": {
     "iopub.execute_input": "2023-12-07T16:54:42.613678Z",
     "iopub.status.busy": "2023-12-07T16:54:42.613234Z",
     "iopub.status.idle": "2023-12-07T16:54:42.620073Z",
     "shell.execute_reply": "2023-12-07T16:54:42.618876Z"
    },
    "papermill": {
     "duration": 0.028779,
     "end_time": "2023-12-07T16:54:42.622007",
     "exception": false,
     "start_time": "2023-12-07T16:54:42.593228",
     "status": "completed"
    },
    "tags": []
   },
   "outputs": [
    {
     "data": {
      "text/plain": [
       "((512, 9), (171, 9))"
      ]
     },
     "execution_count": 17,
     "metadata": {},
     "output_type": "execute_result"
    }
   ],
   "source": [
    "# check the dimension of X_train and X_test\n",
    "\n",
    "X_train.shape, X_test.shape"
   ]
  },
  {
   "cell_type": "code",
   "execution_count": 18,
   "id": "ca64c5f7",
   "metadata": {
    "execution": {
     "iopub.execute_input": "2023-12-07T16:54:42.661665Z",
     "iopub.status.busy": "2023-12-07T16:54:42.661242Z",
     "iopub.status.idle": "2023-12-07T16:54:42.673896Z",
     "shell.execute_reply": "2023-12-07T16:54:42.672779Z"
    },
    "papermill": {
     "duration": 0.035309,
     "end_time": "2023-12-07T16:54:42.676190",
     "exception": false,
     "start_time": "2023-12-07T16:54:42.640881",
     "status": "completed"
    },
    "tags": []
   },
   "outputs": [
    {
     "data": {
      "text/html": [
       "<div>\n",
       "<style scoped>\n",
       "    .dataframe tbody tr th:only-of-type {\n",
       "        vertical-align: middle;\n",
       "    }\n",
       "\n",
       "    .dataframe tbody tr th {\n",
       "        vertical-align: top;\n",
       "    }\n",
       "\n",
       "    .dataframe thead th {\n",
       "        text-align: right;\n",
       "    }\n",
       "</style>\n",
       "<table border=\"1\" class=\"dataframe\">\n",
       "  <thead>\n",
       "    <tr style=\"text-align: right;\">\n",
       "      <th></th>\n",
       "      <th>Clump Thickness</th>\n",
       "      <th>Uniformity of Cell Size</th>\n",
       "      <th>Uniformity of Cell Shape</th>\n",
       "      <th>Marginal Adhesion</th>\n",
       "      <th>Single Epithelial Cell Size</th>\n",
       "      <th>Bare Nuclei</th>\n",
       "      <th>Bland Chromatin</th>\n",
       "      <th>Normal Nucleoli</th>\n",
       "      <th>Mitoses</th>\n",
       "    </tr>\n",
       "  </thead>\n",
       "  <tbody>\n",
       "    <tr>\n",
       "      <th>556</th>\n",
       "      <td>7</td>\n",
       "      <td>6</td>\n",
       "      <td>10</td>\n",
       "      <td>5</td>\n",
       "      <td>3</td>\n",
       "      <td>10</td>\n",
       "      <td>9</td>\n",
       "      <td>10</td>\n",
       "      <td>2</td>\n",
       "    </tr>\n",
       "    <tr>\n",
       "      <th>66</th>\n",
       "      <td>8</td>\n",
       "      <td>3</td>\n",
       "      <td>8</td>\n",
       "      <td>3</td>\n",
       "      <td>4</td>\n",
       "      <td>9</td>\n",
       "      <td>8</td>\n",
       "      <td>9</td>\n",
       "      <td>8</td>\n",
       "    </tr>\n",
       "    <tr>\n",
       "      <th>571</th>\n",
       "      <td>8</td>\n",
       "      <td>10</td>\n",
       "      <td>10</td>\n",
       "      <td>10</td>\n",
       "      <td>6</td>\n",
       "      <td>10</td>\n",
       "      <td>10</td>\n",
       "      <td>10</td>\n",
       "      <td>1</td>\n",
       "    </tr>\n",
       "    <tr>\n",
       "      <th>299</th>\n",
       "      <td>1</td>\n",
       "      <td>1</td>\n",
       "      <td>1</td>\n",
       "      <td>1</td>\n",
       "      <td>2</td>\n",
       "      <td>1</td>\n",
       "      <td>1</td>\n",
       "      <td>1</td>\n",
       "      <td>1</td>\n",
       "    </tr>\n",
       "    <tr>\n",
       "      <th>355</th>\n",
       "      <td>1</td>\n",
       "      <td>1</td>\n",
       "      <td>3</td>\n",
       "      <td>1</td>\n",
       "      <td>1</td>\n",
       "      <td>1</td>\n",
       "      <td>2</td>\n",
       "      <td>1</td>\n",
       "      <td>1</td>\n",
       "    </tr>\n",
       "  </tbody>\n",
       "</table>\n",
       "</div>"
      ],
      "text/plain": [
       "     Clump Thickness  Uniformity of Cell Size  Uniformity of Cell Shape  \\\n",
       "556                7                        6                        10   \n",
       "66                 8                        3                         8   \n",
       "571                8                       10                        10   \n",
       "299                1                        1                         1   \n",
       "355                1                        1                         3   \n",
       "\n",
       "     Marginal Adhesion  Single Epithelial Cell Size  Bare Nuclei  \\\n",
       "556                  5                            3           10   \n",
       "66                   3                            4            9   \n",
       "571                 10                            6           10   \n",
       "299                  1                            2            1   \n",
       "355                  1                            1            1   \n",
       "\n",
       "     Bland Chromatin  Normal Nucleoli  Mitoses  \n",
       "556                9               10        2  \n",
       "66                 8                9        8  \n",
       "571               10               10        1  \n",
       "299                1                1        1  \n",
       "355                2                1        1  "
      ]
     },
     "execution_count": 18,
     "metadata": {},
     "output_type": "execute_result"
    }
   ],
   "source": [
    "X_train.head()"
   ]
  },
  {
   "cell_type": "code",
   "execution_count": 19,
   "id": "70d2e0da",
   "metadata": {
    "execution": {
     "iopub.execute_input": "2023-12-07T16:54:42.716680Z",
     "iopub.status.busy": "2023-12-07T16:54:42.715928Z",
     "iopub.status.idle": "2023-12-07T16:54:42.728879Z",
     "shell.execute_reply": "2023-12-07T16:54:42.727846Z"
    },
    "papermill": {
     "duration": 0.035555,
     "end_time": "2023-12-07T16:54:42.731098",
     "exception": false,
     "start_time": "2023-12-07T16:54:42.695543",
     "status": "completed"
    },
    "tags": []
   },
   "outputs": [
    {
     "data": {
      "text/html": [
       "<div>\n",
       "<style scoped>\n",
       "    .dataframe tbody tr th:only-of-type {\n",
       "        vertical-align: middle;\n",
       "    }\n",
       "\n",
       "    .dataframe tbody tr th {\n",
       "        vertical-align: top;\n",
       "    }\n",
       "\n",
       "    .dataframe thead th {\n",
       "        text-align: right;\n",
       "    }\n",
       "</style>\n",
       "<table border=\"1\" class=\"dataframe\">\n",
       "  <thead>\n",
       "    <tr style=\"text-align: right;\">\n",
       "      <th></th>\n",
       "      <th>Clump Thickness</th>\n",
       "      <th>Uniformity of Cell Size</th>\n",
       "      <th>Uniformity of Cell Shape</th>\n",
       "      <th>Marginal Adhesion</th>\n",
       "      <th>Single Epithelial Cell Size</th>\n",
       "      <th>Bare Nuclei</th>\n",
       "      <th>Bland Chromatin</th>\n",
       "      <th>Normal Nucleoli</th>\n",
       "      <th>Mitoses</th>\n",
       "    </tr>\n",
       "  </thead>\n",
       "  <tbody>\n",
       "    <tr>\n",
       "      <th>113</th>\n",
       "      <td>1</td>\n",
       "      <td>1</td>\n",
       "      <td>1</td>\n",
       "      <td>1</td>\n",
       "      <td>2</td>\n",
       "      <td>5</td>\n",
       "      <td>1</td>\n",
       "      <td>1</td>\n",
       "      <td>1</td>\n",
       "    </tr>\n",
       "    <tr>\n",
       "      <th>378</th>\n",
       "      <td>3</td>\n",
       "      <td>1</td>\n",
       "      <td>1</td>\n",
       "      <td>1</td>\n",
       "      <td>2</td>\n",
       "      <td>1</td>\n",
       "      <td>2</td>\n",
       "      <td>1</td>\n",
       "      <td>1</td>\n",
       "    </tr>\n",
       "    <tr>\n",
       "      <th>303</th>\n",
       "      <td>5</td>\n",
       "      <td>5</td>\n",
       "      <td>5</td>\n",
       "      <td>2</td>\n",
       "      <td>5</td>\n",
       "      <td>10</td>\n",
       "      <td>4</td>\n",
       "      <td>3</td>\n",
       "      <td>1</td>\n",
       "    </tr>\n",
       "    <tr>\n",
       "      <th>504</th>\n",
       "      <td>4</td>\n",
       "      <td>7</td>\n",
       "      <td>8</td>\n",
       "      <td>3</td>\n",
       "      <td>4</td>\n",
       "      <td>10</td>\n",
       "      <td>9</td>\n",
       "      <td>1</td>\n",
       "      <td>1</td>\n",
       "    </tr>\n",
       "    <tr>\n",
       "      <th>301</th>\n",
       "      <td>1</td>\n",
       "      <td>1</td>\n",
       "      <td>1</td>\n",
       "      <td>1</td>\n",
       "      <td>2</td>\n",
       "      <td>1</td>\n",
       "      <td>1</td>\n",
       "      <td>1</td>\n",
       "      <td>1</td>\n",
       "    </tr>\n",
       "  </tbody>\n",
       "</table>\n",
       "</div>"
      ],
      "text/plain": [
       "     Clump Thickness  Uniformity of Cell Size  Uniformity of Cell Shape  \\\n",
       "113                1                        1                         1   \n",
       "378                3                        1                         1   \n",
       "303                5                        5                         5   \n",
       "504                4                        7                         8   \n",
       "301                1                        1                         1   \n",
       "\n",
       "     Marginal Adhesion  Single Epithelial Cell Size  Bare Nuclei  \\\n",
       "113                  1                            2            5   \n",
       "378                  1                            2            1   \n",
       "303                  2                            5           10   \n",
       "504                  3                            4           10   \n",
       "301                  1                            2            1   \n",
       "\n",
       "     Bland Chromatin  Normal Nucleoli  Mitoses  \n",
       "113                1                1        1  \n",
       "378                2                1        1  \n",
       "303                4                3        1  \n",
       "504                9                1        1  \n",
       "301                1                1        1  "
      ]
     },
     "execution_count": 19,
     "metadata": {},
     "output_type": "execute_result"
    }
   ],
   "source": [
    "X_test.head()"
   ]
  },
  {
   "cell_type": "code",
   "execution_count": 20,
   "id": "31f6087d",
   "metadata": {
    "execution": {
     "iopub.execute_input": "2023-12-07T16:54:42.772472Z",
     "iopub.status.busy": "2023-12-07T16:54:42.771547Z",
     "iopub.status.idle": "2023-12-07T16:54:42.776851Z",
     "shell.execute_reply": "2023-12-07T16:54:42.775747Z"
    },
    "papermill": {
     "duration": 0.028585,
     "end_time": "2023-12-07T16:54:42.779225",
     "exception": false,
     "start_time": "2023-12-07T16:54:42.750640",
     "status": "completed"
    },
    "tags": []
   },
   "outputs": [],
   "source": [
    "cols=X_train.columns"
   ]
  },
  {
   "cell_type": "markdown",
   "id": "69295456",
   "metadata": {
    "papermill": {
     "duration": 0.018981,
     "end_time": "2023-12-07T16:54:42.817578",
     "exception": false,
     "start_time": "2023-12-07T16:54:42.798597",
     "status": "completed"
    },
    "tags": []
   },
   "source": [
    "**Feature Scaling**"
   ]
  },
  {
   "cell_type": "markdown",
   "id": "f7f8c96c",
   "metadata": {
    "papermill": {
     "duration": 0.018863,
     "end_time": "2023-12-07T16:54:42.855478",
     "exception": false,
     "start_time": "2023-12-07T16:54:42.836615",
     "status": "completed"
    },
    "tags": []
   },
   "source": [
    "Scaling is often beneficial for logistic regression due to several reasons:\n",
    "\n",
    "1. **Effect of Magnitude:** Logistic regression models are sensitive to the scale of the input features. Features with larger magnitudes can dominate the learning process, leading the model to be biased towards them.\n",
    "\n",
    "2. **Convergence Speed:** Scaling helps the optimization algorithm (e.g., gradient descent) converge faster. It can reach the minimum loss function more efficiently when the features are on a similar scale. This is particularly important when dealing with large datasets or when computational efficiency is a concern.\n",
    "\n",
    "3. **Interpretability:** Scaling ensures that coefficients represent the impact of each feature in comparable units. This makes the interpretation of coefficients more straightforward. Without scaling, it might be challenging to assess the relative importance of different features based on their coefficients.\n",
    "\n",
    "4. **Regularization:** If regularization techniques like L1 or L2 regularization are applied (e.g., in LASSO or Ridge regression), scaling becomes important. Regularization terms are sensitive to the scale of coefficients, and scaling helps in ensuring that all features contribute proportionately to the regularization penalty.\n",
    "\n",
    "5. **Distance-Based Algorithms:** Logistic regression involves calculating distances or similarities between data points. If the features are not on a similar scale, the distances might be dominated by features with larger magnitudes, leading to suboptimal performance.\n",
    "\n",
    "In summary, scaling is not always strictly necessary for logistic regression, but it can significantly improve the performance, stability, and interpretability of the model. Common scaling techniques include Standard Scaling (subtracting the mean and dividing by the standard deviation) or Min-Max Scaling (scaling values to a specific range, usually [0, 1])."
   ]
  },
  {
   "cell_type": "code",
   "execution_count": 21,
   "id": "9ee0c2db",
   "metadata": {
    "execution": {
     "iopub.execute_input": "2023-12-07T16:54:42.896273Z",
     "iopub.status.busy": "2023-12-07T16:54:42.895464Z",
     "iopub.status.idle": "2023-12-07T16:54:42.905918Z",
     "shell.execute_reply": "2023-12-07T16:54:42.904874Z"
    },
    "papermill": {
     "duration": 0.033977,
     "end_time": "2023-12-07T16:54:42.908549",
     "exception": false,
     "start_time": "2023-12-07T16:54:42.874572",
     "status": "completed"
    },
    "tags": []
   },
   "outputs": [],
   "source": [
    "from sklearn.preprocessing import StandardScaler\n",
    "\n",
    "scaler = StandardScaler()\n",
    "\n",
    "X_train = scaler.fit_transform(X_train)\n",
    "\n",
    "X_test = scaler.transform(X_test)"
   ]
  },
  {
   "cell_type": "code",
   "execution_count": 22,
   "id": "eb6678d4",
   "metadata": {
    "execution": {
     "iopub.execute_input": "2023-12-07T16:54:42.948762Z",
     "iopub.status.busy": "2023-12-07T16:54:42.948354Z",
     "iopub.status.idle": "2023-12-07T16:54:42.953659Z",
     "shell.execute_reply": "2023-12-07T16:54:42.952778Z"
    },
    "papermill": {
     "duration": 0.028319,
     "end_time": "2023-12-07T16:54:42.955959",
     "exception": false,
     "start_time": "2023-12-07T16:54:42.927640",
     "status": "completed"
    },
    "tags": []
   },
   "outputs": [],
   "source": [
    "\n",
    "X_train = pd.DataFrame(X_train, columns=cols)\n",
    "X_test = pd.DataFrame(X_test, columns=cols)"
   ]
  },
  {
   "cell_type": "code",
   "execution_count": 23,
   "id": "4011ffa1",
   "metadata": {
    "execution": {
     "iopub.execute_input": "2023-12-07T16:54:42.997700Z",
     "iopub.status.busy": "2023-12-07T16:54:42.997274Z",
     "iopub.status.idle": "2023-12-07T16:54:43.036833Z",
     "shell.execute_reply": "2023-12-07T16:54:43.035511Z"
    },
    "papermill": {
     "duration": 0.063438,
     "end_time": "2023-12-07T16:54:43.039348",
     "exception": false,
     "start_time": "2023-12-07T16:54:42.975910",
     "status": "completed"
    },
    "tags": []
   },
   "outputs": [
    {
     "data": {
      "text/html": [
       "<div>\n",
       "<style scoped>\n",
       "    .dataframe tbody tr th:only-of-type {\n",
       "        vertical-align: middle;\n",
       "    }\n",
       "\n",
       "    .dataframe tbody tr th {\n",
       "        vertical-align: top;\n",
       "    }\n",
       "\n",
       "    .dataframe thead th {\n",
       "        text-align: right;\n",
       "    }\n",
       "</style>\n",
       "<table border=\"1\" class=\"dataframe\">\n",
       "  <thead>\n",
       "    <tr style=\"text-align: right;\">\n",
       "      <th></th>\n",
       "      <th>Clump Thickness</th>\n",
       "      <th>Uniformity of Cell Size</th>\n",
       "      <th>Uniformity of Cell Shape</th>\n",
       "      <th>Marginal Adhesion</th>\n",
       "      <th>Single Epithelial Cell Size</th>\n",
       "      <th>Bare Nuclei</th>\n",
       "      <th>Bland Chromatin</th>\n",
       "      <th>Normal Nucleoli</th>\n",
       "      <th>Mitoses</th>\n",
       "    </tr>\n",
       "  </thead>\n",
       "  <tbody>\n",
       "    <tr>\n",
       "      <th>count</th>\n",
       "      <td>5.120000e+02</td>\n",
       "      <td>5.120000e+02</td>\n",
       "      <td>5.120000e+02</td>\n",
       "      <td>5.120000e+02</td>\n",
       "      <td>512.000000</td>\n",
       "      <td>5.120000e+02</td>\n",
       "      <td>5.120000e+02</td>\n",
       "      <td>5.120000e+02</td>\n",
       "      <td>5.120000e+02</td>\n",
       "    </tr>\n",
       "    <tr>\n",
       "      <th>mean</th>\n",
       "      <td>-1.040834e-17</td>\n",
       "      <td>3.382711e-17</td>\n",
       "      <td>-5.377643e-17</td>\n",
       "      <td>1.908196e-17</td>\n",
       "      <td>0.000000</td>\n",
       "      <td>-4.076600e-17</td>\n",
       "      <td>-6.938894e-18</td>\n",
       "      <td>-6.938894e-18</td>\n",
       "      <td>-2.081668e-17</td>\n",
       "    </tr>\n",
       "    <tr>\n",
       "      <th>std</th>\n",
       "      <td>1.000978e+00</td>\n",
       "      <td>1.000978e+00</td>\n",
       "      <td>1.000978e+00</td>\n",
       "      <td>1.000978e+00</td>\n",
       "      <td>1.000978</td>\n",
       "      <td>1.000978e+00</td>\n",
       "      <td>1.000978e+00</td>\n",
       "      <td>1.000978e+00</td>\n",
       "      <td>1.000978e+00</td>\n",
       "    </tr>\n",
       "    <tr>\n",
       "      <th>min</th>\n",
       "      <td>-1.221435e+00</td>\n",
       "      <td>-6.986899e-01</td>\n",
       "      <td>-7.396154e-01</td>\n",
       "      <td>-6.364285e-01</td>\n",
       "      <td>-0.990024</td>\n",
       "      <td>-6.808444e-01</td>\n",
       "      <td>-9.877481e-01</td>\n",
       "      <td>-6.206996e-01</td>\n",
       "      <td>-3.374390e-01</td>\n",
       "    </tr>\n",
       "    <tr>\n",
       "      <th>25%</th>\n",
       "      <td>-8.646895e-01</td>\n",
       "      <td>-6.986899e-01</td>\n",
       "      <td>-7.396154e-01</td>\n",
       "      <td>-6.364285e-01</td>\n",
       "      <td>-0.546549</td>\n",
       "      <td>-6.808444e-01</td>\n",
       "      <td>-5.860587e-01</td>\n",
       "      <td>-6.206996e-01</td>\n",
       "      <td>-3.374390e-01</td>\n",
       "    </tr>\n",
       "    <tr>\n",
       "      <th>50%</th>\n",
       "      <td>-1.511987e-01</td>\n",
       "      <td>-6.986899e-01</td>\n",
       "      <td>-7.396154e-01</td>\n",
       "      <td>-6.364285e-01</td>\n",
       "      <td>-0.546549</td>\n",
       "      <td>-6.808444e-01</td>\n",
       "      <td>-1.843692e-01</td>\n",
       "      <td>-6.206996e-01</td>\n",
       "      <td>-3.374390e-01</td>\n",
       "    </tr>\n",
       "    <tr>\n",
       "      <th>75%</th>\n",
       "      <td>5.622921e-01</td>\n",
       "      <td>6.128747e-01</td>\n",
       "      <td>6.152435e-01</td>\n",
       "      <td>4.203868e-01</td>\n",
       "      <td>0.340402</td>\n",
       "      <td>4.257979e-01</td>\n",
       "      <td>6.190098e-01</td>\n",
       "      <td>3.432990e-01</td>\n",
       "      <td>-3.374390e-01</td>\n",
       "    </tr>\n",
       "    <tr>\n",
       "      <th>max</th>\n",
       "      <td>1.989274e+00</td>\n",
       "      <td>2.252330e+00</td>\n",
       "      <td>2.308817e+00</td>\n",
       "      <td>2.534018e+00</td>\n",
       "      <td>3.001253</td>\n",
       "      <td>1.809101e+00</td>\n",
       "      <td>2.627457e+00</td>\n",
       "      <td>2.271296e+00</td>\n",
       "      <td>4.915666e+00</td>\n",
       "    </tr>\n",
       "  </tbody>\n",
       "</table>\n",
       "</div>"
      ],
      "text/plain": [
       "       Clump Thickness  Uniformity of Cell Size  Uniformity of Cell Shape  \\\n",
       "count     5.120000e+02             5.120000e+02              5.120000e+02   \n",
       "mean     -1.040834e-17             3.382711e-17             -5.377643e-17   \n",
       "std       1.000978e+00             1.000978e+00              1.000978e+00   \n",
       "min      -1.221435e+00            -6.986899e-01             -7.396154e-01   \n",
       "25%      -8.646895e-01            -6.986899e-01             -7.396154e-01   \n",
       "50%      -1.511987e-01            -6.986899e-01             -7.396154e-01   \n",
       "75%       5.622921e-01             6.128747e-01              6.152435e-01   \n",
       "max       1.989274e+00             2.252330e+00              2.308817e+00   \n",
       "\n",
       "       Marginal Adhesion  Single Epithelial Cell Size   Bare Nuclei  \\\n",
       "count       5.120000e+02                   512.000000  5.120000e+02   \n",
       "mean        1.908196e-17                     0.000000 -4.076600e-17   \n",
       "std         1.000978e+00                     1.000978  1.000978e+00   \n",
       "min        -6.364285e-01                    -0.990024 -6.808444e-01   \n",
       "25%        -6.364285e-01                    -0.546549 -6.808444e-01   \n",
       "50%        -6.364285e-01                    -0.546549 -6.808444e-01   \n",
       "75%         4.203868e-01                     0.340402  4.257979e-01   \n",
       "max         2.534018e+00                     3.001253  1.809101e+00   \n",
       "\n",
       "       Bland Chromatin  Normal Nucleoli       Mitoses  \n",
       "count     5.120000e+02     5.120000e+02  5.120000e+02  \n",
       "mean     -6.938894e-18    -6.938894e-18 -2.081668e-17  \n",
       "std       1.000978e+00     1.000978e+00  1.000978e+00  \n",
       "min      -9.877481e-01    -6.206996e-01 -3.374390e-01  \n",
       "25%      -5.860587e-01    -6.206996e-01 -3.374390e-01  \n",
       "50%      -1.843692e-01    -6.206996e-01 -3.374390e-01  \n",
       "75%       6.190098e-01     3.432990e-01 -3.374390e-01  \n",
       "max       2.627457e+00     2.271296e+00  4.915666e+00  "
      ]
     },
     "execution_count": 23,
     "metadata": {},
     "output_type": "execute_result"
    }
   ],
   "source": [
    "X_train.describe()"
   ]
  },
  {
   "cell_type": "markdown",
   "id": "0c851c1a",
   "metadata": {
    "papermill": {
     "duration": 0.019193,
     "end_time": "2023-12-07T16:54:43.078023",
     "exception": false,
     "start_time": "2023-12-07T16:54:43.058830",
     "status": "completed"
    },
    "tags": []
   },
   "source": [
    "![](https://miro.medium.com/max/725/0*LeezUk9jfv6X7DG-.png)"
   ]
  },
  {
   "cell_type": "code",
   "execution_count": 53,
   "id": "7b59a91b",
   "metadata": {
    "execution": {
     "iopub.execute_input": "2023-12-07T16:54:43.119044Z",
     "iopub.status.busy": "2023-12-07T16:54:43.118625Z",
     "iopub.status.idle": "2023-12-07T16:54:43.248617Z",
     "shell.execute_reply": "2023-12-07T16:54:43.247558Z"
    },
    "papermill": {
     "duration": 0.153375,
     "end_time": "2023-12-07T16:54:43.251041",
     "exception": false,
     "start_time": "2023-12-07T16:54:43.097666",
     "status": "completed"
    },
    "tags": []
   },
   "outputs": [
    {
     "data": {
      "text/html": [
       "<style>#sk-container-id-3 {\n",
       "  /* Definition of color scheme common for light and dark mode */\n",
       "  --sklearn-color-text: black;\n",
       "  --sklearn-color-line: gray;\n",
       "  /* Definition of color scheme for unfitted estimators */\n",
       "  --sklearn-color-unfitted-level-0: #fff5e6;\n",
       "  --sklearn-color-unfitted-level-1: #f6e4d2;\n",
       "  --sklearn-color-unfitted-level-2: #ffe0b3;\n",
       "  --sklearn-color-unfitted-level-3: chocolate;\n",
       "  /* Definition of color scheme for fitted estimators */\n",
       "  --sklearn-color-fitted-level-0: #f0f8ff;\n",
       "  --sklearn-color-fitted-level-1: #d4ebff;\n",
       "  --sklearn-color-fitted-level-2: #b3dbfd;\n",
       "  --sklearn-color-fitted-level-3: cornflowerblue;\n",
       "\n",
       "  /* Specific color for light theme */\n",
       "  --sklearn-color-text-on-default-background: var(--sg-text-color, var(--theme-code-foreground, var(--jp-content-font-color1, black)));\n",
       "  --sklearn-color-background: var(--sg-background-color, var(--theme-background, var(--jp-layout-color0, white)));\n",
       "  --sklearn-color-border-box: var(--sg-text-color, var(--theme-code-foreground, var(--jp-content-font-color1, black)));\n",
       "  --sklearn-color-icon: #696969;\n",
       "\n",
       "  @media (prefers-color-scheme: dark) {\n",
       "    /* Redefinition of color scheme for dark theme */\n",
       "    --sklearn-color-text-on-default-background: var(--sg-text-color, var(--theme-code-foreground, var(--jp-content-font-color1, white)));\n",
       "    --sklearn-color-background: var(--sg-background-color, var(--theme-background, var(--jp-layout-color0, #111)));\n",
       "    --sklearn-color-border-box: var(--sg-text-color, var(--theme-code-foreground, var(--jp-content-font-color1, white)));\n",
       "    --sklearn-color-icon: #878787;\n",
       "  }\n",
       "}\n",
       "\n",
       "#sk-container-id-3 {\n",
       "  color: var(--sklearn-color-text);\n",
       "}\n",
       "\n",
       "#sk-container-id-3 pre {\n",
       "  padding: 0;\n",
       "}\n",
       "\n",
       "#sk-container-id-3 input.sk-hidden--visually {\n",
       "  border: 0;\n",
       "  clip: rect(1px 1px 1px 1px);\n",
       "  clip: rect(1px, 1px, 1px, 1px);\n",
       "  height: 1px;\n",
       "  margin: -1px;\n",
       "  overflow: hidden;\n",
       "  padding: 0;\n",
       "  position: absolute;\n",
       "  width: 1px;\n",
       "}\n",
       "\n",
       "#sk-container-id-3 div.sk-dashed-wrapped {\n",
       "  border: 1px dashed var(--sklearn-color-line);\n",
       "  margin: 0 0.4em 0.5em 0.4em;\n",
       "  box-sizing: border-box;\n",
       "  padding-bottom: 0.4em;\n",
       "  background-color: var(--sklearn-color-background);\n",
       "}\n",
       "\n",
       "#sk-container-id-3 div.sk-container {\n",
       "  /* jupyter's `normalize.less` sets `[hidden] { display: none; }`\n",
       "     but bootstrap.min.css set `[hidden] { display: none !important; }`\n",
       "     so we also need the `!important` here to be able to override the\n",
       "     default hidden behavior on the sphinx rendered scikit-learn.org.\n",
       "     See: https://github.com/scikit-learn/scikit-learn/issues/21755 */\n",
       "  display: inline-block !important;\n",
       "  position: relative;\n",
       "}\n",
       "\n",
       "#sk-container-id-3 div.sk-text-repr-fallback {\n",
       "  display: none;\n",
       "}\n",
       "\n",
       "div.sk-parallel-item,\n",
       "div.sk-serial,\n",
       "div.sk-item {\n",
       "  /* draw centered vertical line to link estimators */\n",
       "  background-image: linear-gradient(var(--sklearn-color-text-on-default-background), var(--sklearn-color-text-on-default-background));\n",
       "  background-size: 2px 100%;\n",
       "  background-repeat: no-repeat;\n",
       "  background-position: center center;\n",
       "}\n",
       "\n",
       "/* Parallel-specific style estimator block */\n",
       "\n",
       "#sk-container-id-3 div.sk-parallel-item::after {\n",
       "  content: \"\";\n",
       "  width: 100%;\n",
       "  border-bottom: 2px solid var(--sklearn-color-text-on-default-background);\n",
       "  flex-grow: 1;\n",
       "}\n",
       "\n",
       "#sk-container-id-3 div.sk-parallel {\n",
       "  display: flex;\n",
       "  align-items: stretch;\n",
       "  justify-content: center;\n",
       "  background-color: var(--sklearn-color-background);\n",
       "  position: relative;\n",
       "}\n",
       "\n",
       "#sk-container-id-3 div.sk-parallel-item {\n",
       "  display: flex;\n",
       "  flex-direction: column;\n",
       "}\n",
       "\n",
       "#sk-container-id-3 div.sk-parallel-item:first-child::after {\n",
       "  align-self: flex-end;\n",
       "  width: 50%;\n",
       "}\n",
       "\n",
       "#sk-container-id-3 div.sk-parallel-item:last-child::after {\n",
       "  align-self: flex-start;\n",
       "  width: 50%;\n",
       "}\n",
       "\n",
       "#sk-container-id-3 div.sk-parallel-item:only-child::after {\n",
       "  width: 0;\n",
       "}\n",
       "\n",
       "/* Serial-specific style estimator block */\n",
       "\n",
       "#sk-container-id-3 div.sk-serial {\n",
       "  display: flex;\n",
       "  flex-direction: column;\n",
       "  align-items: center;\n",
       "  background-color: var(--sklearn-color-background);\n",
       "  padding-right: 1em;\n",
       "  padding-left: 1em;\n",
       "}\n",
       "\n",
       "\n",
       "/* Toggleable style: style used for estimator/Pipeline/ColumnTransformer box that is\n",
       "clickable and can be expanded/collapsed.\n",
       "- Pipeline and ColumnTransformer use this feature and define the default style\n",
       "- Estimators will overwrite some part of the style using the `sk-estimator` class\n",
       "*/\n",
       "\n",
       "/* Pipeline and ColumnTransformer style (default) */\n",
       "\n",
       "#sk-container-id-3 div.sk-toggleable {\n",
       "  /* Default theme specific background. It is overwritten whether we have a\n",
       "  specific estimator or a Pipeline/ColumnTransformer */\n",
       "  background-color: var(--sklearn-color-background);\n",
       "}\n",
       "\n",
       "/* Toggleable label */\n",
       "#sk-container-id-3 label.sk-toggleable__label {\n",
       "  cursor: pointer;\n",
       "  display: block;\n",
       "  width: 100%;\n",
       "  margin-bottom: 0;\n",
       "  padding: 0.5em;\n",
       "  box-sizing: border-box;\n",
       "  text-align: center;\n",
       "}\n",
       "\n",
       "#sk-container-id-3 label.sk-toggleable__label-arrow:before {\n",
       "  /* Arrow on the left of the label */\n",
       "  content: \"▸\";\n",
       "  float: left;\n",
       "  margin-right: 0.25em;\n",
       "  color: var(--sklearn-color-icon);\n",
       "}\n",
       "\n",
       "#sk-container-id-3 label.sk-toggleable__label-arrow:hover:before {\n",
       "  color: var(--sklearn-color-text);\n",
       "}\n",
       "\n",
       "/* Toggleable content - dropdown */\n",
       "\n",
       "#sk-container-id-3 div.sk-toggleable__content {\n",
       "  max-height: 0;\n",
       "  max-width: 0;\n",
       "  overflow: hidden;\n",
       "  text-align: left;\n",
       "  /* unfitted */\n",
       "  background-color: var(--sklearn-color-unfitted-level-0);\n",
       "}\n",
       "\n",
       "#sk-container-id-3 div.sk-toggleable__content.fitted {\n",
       "  /* fitted */\n",
       "  background-color: var(--sklearn-color-fitted-level-0);\n",
       "}\n",
       "\n",
       "#sk-container-id-3 div.sk-toggleable__content pre {\n",
       "  margin: 0.2em;\n",
       "  border-radius: 0.25em;\n",
       "  color: var(--sklearn-color-text);\n",
       "  /* unfitted */\n",
       "  background-color: var(--sklearn-color-unfitted-level-0);\n",
       "}\n",
       "\n",
       "#sk-container-id-3 div.sk-toggleable__content.fitted pre {\n",
       "  /* unfitted */\n",
       "  background-color: var(--sklearn-color-fitted-level-0);\n",
       "}\n",
       "\n",
       "#sk-container-id-3 input.sk-toggleable__control:checked~div.sk-toggleable__content {\n",
       "  /* Expand drop-down */\n",
       "  max-height: 200px;\n",
       "  max-width: 100%;\n",
       "  overflow: auto;\n",
       "}\n",
       "\n",
       "#sk-container-id-3 input.sk-toggleable__control:checked~label.sk-toggleable__label-arrow:before {\n",
       "  content: \"▾\";\n",
       "}\n",
       "\n",
       "/* Pipeline/ColumnTransformer-specific style */\n",
       "\n",
       "#sk-container-id-3 div.sk-label input.sk-toggleable__control:checked~label.sk-toggleable__label {\n",
       "  color: var(--sklearn-color-text);\n",
       "  background-color: var(--sklearn-color-unfitted-level-2);\n",
       "}\n",
       "\n",
       "#sk-container-id-3 div.sk-label.fitted input.sk-toggleable__control:checked~label.sk-toggleable__label {\n",
       "  background-color: var(--sklearn-color-fitted-level-2);\n",
       "}\n",
       "\n",
       "/* Estimator-specific style */\n",
       "\n",
       "/* Colorize estimator box */\n",
       "#sk-container-id-3 div.sk-estimator input.sk-toggleable__control:checked~label.sk-toggleable__label {\n",
       "  /* unfitted */\n",
       "  background-color: var(--sklearn-color-unfitted-level-2);\n",
       "}\n",
       "\n",
       "#sk-container-id-3 div.sk-estimator.fitted input.sk-toggleable__control:checked~label.sk-toggleable__label {\n",
       "  /* fitted */\n",
       "  background-color: var(--sklearn-color-fitted-level-2);\n",
       "}\n",
       "\n",
       "#sk-container-id-3 div.sk-label label.sk-toggleable__label,\n",
       "#sk-container-id-3 div.sk-label label {\n",
       "  /* The background is the default theme color */\n",
       "  color: var(--sklearn-color-text-on-default-background);\n",
       "}\n",
       "\n",
       "/* On hover, darken the color of the background */\n",
       "#sk-container-id-3 div.sk-label:hover label.sk-toggleable__label {\n",
       "  color: var(--sklearn-color-text);\n",
       "  background-color: var(--sklearn-color-unfitted-level-2);\n",
       "}\n",
       "\n",
       "/* Label box, darken color on hover, fitted */\n",
       "#sk-container-id-3 div.sk-label.fitted:hover label.sk-toggleable__label.fitted {\n",
       "  color: var(--sklearn-color-text);\n",
       "  background-color: var(--sklearn-color-fitted-level-2);\n",
       "}\n",
       "\n",
       "/* Estimator label */\n",
       "\n",
       "#sk-container-id-3 div.sk-label label {\n",
       "  font-family: monospace;\n",
       "  font-weight: bold;\n",
       "  display: inline-block;\n",
       "  line-height: 1.2em;\n",
       "}\n",
       "\n",
       "#sk-container-id-3 div.sk-label-container {\n",
       "  text-align: center;\n",
       "}\n",
       "\n",
       "/* Estimator-specific */\n",
       "#sk-container-id-3 div.sk-estimator {\n",
       "  font-family: monospace;\n",
       "  border: 1px dotted var(--sklearn-color-border-box);\n",
       "  border-radius: 0.25em;\n",
       "  box-sizing: border-box;\n",
       "  margin-bottom: 0.5em;\n",
       "  /* unfitted */\n",
       "  background-color: var(--sklearn-color-unfitted-level-0);\n",
       "}\n",
       "\n",
       "#sk-container-id-3 div.sk-estimator.fitted {\n",
       "  /* fitted */\n",
       "  background-color: var(--sklearn-color-fitted-level-0);\n",
       "}\n",
       "\n",
       "/* on hover */\n",
       "#sk-container-id-3 div.sk-estimator:hover {\n",
       "  /* unfitted */\n",
       "  background-color: var(--sklearn-color-unfitted-level-2);\n",
       "}\n",
       "\n",
       "#sk-container-id-3 div.sk-estimator.fitted:hover {\n",
       "  /* fitted */\n",
       "  background-color: var(--sklearn-color-fitted-level-2);\n",
       "}\n",
       "\n",
       "/* Specification for estimator info (e.g. \"i\" and \"?\") */\n",
       "\n",
       "/* Common style for \"i\" and \"?\" */\n",
       "\n",
       ".sk-estimator-doc-link,\n",
       "a:link.sk-estimator-doc-link,\n",
       "a:visited.sk-estimator-doc-link {\n",
       "  float: right;\n",
       "  font-size: smaller;\n",
       "  line-height: 1em;\n",
       "  font-family: monospace;\n",
       "  background-color: var(--sklearn-color-background);\n",
       "  border-radius: 1em;\n",
       "  height: 1em;\n",
       "  width: 1em;\n",
       "  text-decoration: none !important;\n",
       "  margin-left: 1ex;\n",
       "  /* unfitted */\n",
       "  border: var(--sklearn-color-unfitted-level-1) 1pt solid;\n",
       "  color: var(--sklearn-color-unfitted-level-1);\n",
       "}\n",
       "\n",
       ".sk-estimator-doc-link.fitted,\n",
       "a:link.sk-estimator-doc-link.fitted,\n",
       "a:visited.sk-estimator-doc-link.fitted {\n",
       "  /* fitted */\n",
       "  border: var(--sklearn-color-fitted-level-1) 1pt solid;\n",
       "  color: var(--sklearn-color-fitted-level-1);\n",
       "}\n",
       "\n",
       "/* On hover */\n",
       "div.sk-estimator:hover .sk-estimator-doc-link:hover,\n",
       ".sk-estimator-doc-link:hover,\n",
       "div.sk-label-container:hover .sk-estimator-doc-link:hover,\n",
       ".sk-estimator-doc-link:hover {\n",
       "  /* unfitted */\n",
       "  background-color: var(--sklearn-color-unfitted-level-3);\n",
       "  color: var(--sklearn-color-background);\n",
       "  text-decoration: none;\n",
       "}\n",
       "\n",
       "div.sk-estimator.fitted:hover .sk-estimator-doc-link.fitted:hover,\n",
       ".sk-estimator-doc-link.fitted:hover,\n",
       "div.sk-label-container:hover .sk-estimator-doc-link.fitted:hover,\n",
       ".sk-estimator-doc-link.fitted:hover {\n",
       "  /* fitted */\n",
       "  background-color: var(--sklearn-color-fitted-level-3);\n",
       "  color: var(--sklearn-color-background);\n",
       "  text-decoration: none;\n",
       "}\n",
       "\n",
       "/* Span, style for the box shown on hovering the info icon */\n",
       ".sk-estimator-doc-link span {\n",
       "  display: none;\n",
       "  z-index: 9999;\n",
       "  position: relative;\n",
       "  font-weight: normal;\n",
       "  right: .2ex;\n",
       "  padding: .5ex;\n",
       "  margin: .5ex;\n",
       "  width: min-content;\n",
       "  min-width: 20ex;\n",
       "  max-width: 50ex;\n",
       "  color: var(--sklearn-color-text);\n",
       "  box-shadow: 2pt 2pt 4pt #999;\n",
       "  /* unfitted */\n",
       "  background: var(--sklearn-color-unfitted-level-0);\n",
       "  border: .5pt solid var(--sklearn-color-unfitted-level-3);\n",
       "}\n",
       "\n",
       ".sk-estimator-doc-link.fitted span {\n",
       "  /* fitted */\n",
       "  background: var(--sklearn-color-fitted-level-0);\n",
       "  border: var(--sklearn-color-fitted-level-3);\n",
       "}\n",
       "\n",
       ".sk-estimator-doc-link:hover span {\n",
       "  display: block;\n",
       "}\n",
       "\n",
       "/* \"?\"-specific style due to the `<a>` HTML tag */\n",
       "\n",
       "#sk-container-id-3 a.estimator_doc_link {\n",
       "  float: right;\n",
       "  font-size: 1rem;\n",
       "  line-height: 1em;\n",
       "  font-family: monospace;\n",
       "  background-color: var(--sklearn-color-background);\n",
       "  border-radius: 1rem;\n",
       "  height: 1rem;\n",
       "  width: 1rem;\n",
       "  text-decoration: none;\n",
       "  /* unfitted */\n",
       "  color: var(--sklearn-color-unfitted-level-1);\n",
       "  border: var(--sklearn-color-unfitted-level-1) 1pt solid;\n",
       "}\n",
       "\n",
       "#sk-container-id-3 a.estimator_doc_link.fitted {\n",
       "  /* fitted */\n",
       "  border: var(--sklearn-color-fitted-level-1) 1pt solid;\n",
       "  color: var(--sklearn-color-fitted-level-1);\n",
       "}\n",
       "\n",
       "/* On hover */\n",
       "#sk-container-id-3 a.estimator_doc_link:hover {\n",
       "  /* unfitted */\n",
       "  background-color: var(--sklearn-color-unfitted-level-3);\n",
       "  color: var(--sklearn-color-background);\n",
       "  text-decoration: none;\n",
       "}\n",
       "\n",
       "#sk-container-id-3 a.estimator_doc_link.fitted:hover {\n",
       "  /* fitted */\n",
       "  background-color: var(--sklearn-color-fitted-level-3);\n",
       "}\n",
       "</style><div id=\"sk-container-id-3\" class=\"sk-top-container\"><div class=\"sk-text-repr-fallback\"><pre>LogisticRegression(random_state=0)</pre><b>In a Jupyter environment, please rerun this cell to show the HTML representation or trust the notebook. <br />On GitHub, the HTML representation is unable to render, please try loading this page with nbviewer.org.</b></div><div class=\"sk-container\" hidden><div class=\"sk-item\"><div class=\"sk-estimator fitted sk-toggleable\"><input class=\"sk-toggleable__control sk-hidden--visually\" id=\"sk-estimator-id-3\" type=\"checkbox\" checked><label for=\"sk-estimator-id-3\" class=\"sk-toggleable__label fitted sk-toggleable__label-arrow fitted\">&nbsp;&nbsp;LogisticRegression<a class=\"sk-estimator-doc-link fitted\" rel=\"noreferrer\" target=\"_blank\" href=\"https://scikit-learn.org/1.5/modules/generated/sklearn.linear_model.LogisticRegression.html\">?<span>Documentation for LogisticRegression</span></a><span class=\"sk-estimator-doc-link fitted\">i<span>Fitted</span></span></label><div class=\"sk-toggleable__content fitted\"><pre>LogisticRegression(random_state=0)</pre></div> </div></div></div></div>"
      ],
      "text/plain": [
       "LogisticRegression(random_state=0)"
      ]
     },
     "execution_count": 53,
     "metadata": {},
     "output_type": "execute_result"
    }
   ],
   "source": [
    "# train a logistic regression model on the training set\n",
    "from sklearn.linear_model import LogisticRegression\n",
    "\n",
    "\n",
    "# instantiate the model\n",
    "logreg = LogisticRegression(random_state=0)\n",
    "\n",
    "\n",
    "# fit the model\n",
    "logreg.fit(X_train, y_train)"
   ]
  },
  {
   "cell_type": "code",
   "execution_count": 54,
   "id": "7a72bd07",
   "metadata": {
    "execution": {
     "iopub.execute_input": "2023-12-07T16:54:43.294614Z",
     "iopub.status.busy": "2023-12-07T16:54:43.293502Z",
     "iopub.status.idle": "2023-12-07T16:54:43.301989Z",
     "shell.execute_reply": "2023-12-07T16:54:43.301062Z"
    },
    "papermill": {
     "duration": 0.033005,
     "end_time": "2023-12-07T16:54:43.303967",
     "exception": false,
     "start_time": "2023-12-07T16:54:43.270962",
     "status": "completed"
    },
    "tags": []
   },
   "outputs": [
    {
     "data": {
      "text/plain": [
       "array([0, 0, 1, 1, 0, 0, 0, 1, 0, 0, 1, 0, 1, 0, 0, 0, 1, 1, 1, 0, 0, 0,\n",
       "       1, 0, 1, 1, 0, 0, 0, 1, 0, 1, 1, 0, 0, 0, 1, 1, 0, 1, 0, 0, 0, 0,\n",
       "       0, 0, 0, 1, 0, 0, 1, 0, 1, 0, 0, 0, 1, 1, 0, 1, 0, 0, 0, 0, 0, 0,\n",
       "       0, 0, 1, 1, 0, 0, 0, 0, 0, 0, 1, 0, 0, 0, 1, 0, 1, 0, 0, 1, 0, 1,\n",
       "       1, 0, 1, 0, 1, 1, 0, 1, 1, 1, 1, 0, 0, 0, 1, 1, 0, 0, 1, 0, 0, 0,\n",
       "       1, 0, 0, 1, 0, 0, 0, 0, 0, 0, 0, 1, 0, 0, 1, 1, 0, 1, 0, 1, 0, 0,\n",
       "       1, 0, 0, 1, 0, 1, 0, 0, 0, 1, 0, 0, 0, 1, 1, 0, 1, 0, 1, 0, 0, 0,\n",
       "       0, 0, 1, 1, 0, 1, 1, 1, 1, 0, 1, 0, 0, 0, 0, 0, 0])"
      ]
     },
     "execution_count": 54,
     "metadata": {},
     "output_type": "execute_result"
    }
   ],
   "source": [
    "y_pred_test = logreg.predict(X_test)\n",
    "\n",
    "y_pred_test"
   ]
  },
  {
   "cell_type": "code",
   "execution_count": 26,
   "id": "3c847425",
   "metadata": {
    "execution": {
     "iopub.execute_input": "2023-12-07T16:54:43.346456Z",
     "iopub.status.busy": "2023-12-07T16:54:43.345434Z",
     "iopub.status.idle": "2023-12-07T16:54:43.355566Z",
     "shell.execute_reply": "2023-12-07T16:54:43.354460Z"
    },
    "papermill": {
     "duration": 0.033703,
     "end_time": "2023-12-07T16:54:43.357634",
     "exception": false,
     "start_time": "2023-12-07T16:54:43.323931",
     "status": "completed"
    },
    "tags": []
   },
   "outputs": [
    {
     "data": {
      "text/plain": [
       "array([9.91028143e-01, 9.94822534e-01, 6.89115770e-02, 1.32920519e-02,\n",
       "       9.98150986e-01, 9.94883714e-01, 9.82715501e-01, 3.52305400e-04,\n",
       "       9.95281216e-01, 9.97495911e-01, 9.55746597e-04, 9.87509569e-01,\n",
       "       4.85386274e-05, 9.94822534e-01, 9.73475158e-01, 7.18054312e-01,\n",
       "       6.72278367e-03, 9.48325532e-04, 3.45742180e-04, 9.82568591e-01,\n",
       "       9.94822534e-01, 9.90960109e-01, 3.22362090e-01, 9.96174287e-01,\n",
       "       4.51915370e-03, 4.23800042e-03, 9.89451035e-01, 9.94482693e-01,\n",
       "       9.92101111e-01, 3.44590378e-03, 9.98150986e-01, 1.55445482e-04,\n",
       "       1.82401537e-05, 9.92996519e-01, 9.94500810e-01, 9.92996519e-01,\n",
       "       5.89542534e-03, 2.80171898e-02, 9.94500810e-01, 1.94636463e-03,\n",
       "       9.84647706e-01, 9.70371295e-01, 9.95246244e-01, 9.97008752e-01,\n",
       "       9.98150986e-01, 9.92743938e-01, 9.97258823e-01, 4.87026871e-04,\n",
       "       9.88338524e-01, 9.92101111e-01, 6.73869746e-03, 9.89003081e-01,\n",
       "       2.59358856e-02, 9.89842982e-01, 9.82568591e-01, 9.80709253e-01,\n",
       "       3.93263238e-03, 5.90087266e-02, 9.44518577e-01, 5.05794525e-03,\n",
       "       9.96609543e-01, 9.97253291e-01, 9.95125528e-01, 9.96174287e-01,\n",
       "       9.92996519e-01, 9.96609543e-01, 9.96609543e-01, 9.92996519e-01,\n",
       "       2.17187298e-02, 3.14516055e-01, 9.96791328e-01, 9.94822534e-01,\n",
       "       9.97495911e-01, 9.93818504e-01, 9.72233881e-01, 9.89947023e-01,\n",
       "       3.56509035e-03, 9.94500810e-01, 9.94822534e-01, 9.97495911e-01,\n",
       "       4.86828691e-04, 9.91871940e-01, 3.99621971e-03, 9.96609543e-01,\n",
       "       9.98150986e-01, 5.29029325e-06, 9.77568537e-01, 2.87473107e-01,\n",
       "       1.52714890e-03, 9.36645894e-01, 4.07299033e-03, 9.95950645e-01,\n",
       "       3.19142624e-02, 4.21463389e-01, 7.30528579e-01, 4.25299046e-01,\n",
       "       1.20292817e-02, 9.48325532e-04, 3.79869379e-01, 9.85588968e-01,\n",
       "       9.84702300e-01, 9.95875634e-01, 9.37051874e-04, 5.01246376e-03,\n",
       "       9.89947023e-01, 9.93967738e-01, 9.30376235e-04, 6.10506137e-01,\n",
       "       9.95950645e-01, 9.98150986e-01, 1.44963986e-02, 9.83294938e-01,\n",
       "       9.94822534e-01, 1.41938589e-04, 9.97349322e-01, 9.21068867e-01,\n",
       "       9.86739481e-01, 6.94338746e-01, 9.97495911e-01, 9.97339865e-01,\n",
       "       9.97495911e-01, 3.74700252e-02, 9.94822534e-01, 9.97495911e-01,\n",
       "       7.22511635e-04, 2.03454377e-05, 9.91028143e-01, 1.59148812e-01,\n",
       "       9.96609543e-01, 1.98088487e-03, 9.86824330e-01, 9.97349322e-01,\n",
       "       2.17501714e-03, 9.96791328e-01, 9.92971640e-01, 1.89526212e-03,\n",
       "       9.95394530e-01, 8.06291293e-02, 9.97349322e-01, 9.85588968e-01,\n",
       "       9.93370733e-01, 3.75611840e-01, 9.96609543e-01, 9.95125528e-01,\n",
       "       9.91398965e-01, 8.96077684e-02, 6.89901669e-05, 9.97495911e-01,\n",
       "       2.14022938e-01, 9.94822534e-01, 4.08498962e-02, 8.30684434e-01,\n",
       "       9.93382230e-01, 9.96398460e-01, 9.98554918e-01, 9.93641917e-01,\n",
       "       9.24532915e-04, 9.34929939e-04, 9.97634412e-01, 4.38001157e-03,\n",
       "       9.75827079e-03, 3.01840709e-02, 2.28979435e-04, 7.83590110e-01,\n",
       "       5.15456827e-03, 9.88475899e-01, 9.89893955e-01, 9.81541023e-01,\n",
       "       9.82743341e-01, 9.81208944e-01, 9.95125528e-01])"
      ]
     },
     "execution_count": 26,
     "metadata": {},
     "output_type": "execute_result"
    }
   ],
   "source": [
    "# probability of getting output as 0\n",
    "\n",
    "logreg.predict_proba(X_test)[:,0]"
   ]
  },
  {
   "cell_type": "code",
   "execution_count": 27,
   "id": "cb3ad773",
   "metadata": {
    "execution": {
     "iopub.execute_input": "2023-12-07T16:54:43.399684Z",
     "iopub.status.busy": "2023-12-07T16:54:43.399005Z",
     "iopub.status.idle": "2023-12-07T16:54:43.408237Z",
     "shell.execute_reply": "2023-12-07T16:54:43.407489Z"
    },
    "papermill": {
     "duration": 0.03267,
     "end_time": "2023-12-07T16:54:43.410344",
     "exception": false,
     "start_time": "2023-12-07T16:54:43.377674",
     "status": "completed"
    },
    "tags": []
   },
   "outputs": [
    {
     "data": {
      "text/plain": [
       "array([0.00897186, 0.00517747, 0.93108842, 0.98670795, 0.00184901,\n",
       "       0.00511629, 0.0172845 , 0.99964769, 0.00471878, 0.00250409,\n",
       "       0.99904425, 0.01249043, 0.99995146, 0.00517747, 0.02652484,\n",
       "       0.28194569, 0.99327722, 0.99905167, 0.99965426, 0.01743141,\n",
       "       0.00517747, 0.00903989, 0.67763791, 0.00382571, 0.99548085,\n",
       "       0.995762  , 0.01054896, 0.00551731, 0.00789889, 0.9965541 ,\n",
       "       0.00184901, 0.99984455, 0.99998176, 0.00700348, 0.00549919,\n",
       "       0.00700348, 0.99410457, 0.97198281, 0.00549919, 0.99805364,\n",
       "       0.01535229, 0.02962871, 0.00475376, 0.00299125, 0.00184901,\n",
       "       0.00725606, 0.00274118, 0.99951297, 0.01166148, 0.00789889,\n",
       "       0.9932613 , 0.01099692, 0.97406411, 0.01015702, 0.01743141,\n",
       "       0.01929075, 0.99606737, 0.94099127, 0.05548142, 0.99494205,\n",
       "       0.00339046, 0.00274671, 0.00487447, 0.00382571, 0.00700348,\n",
       "       0.00339046, 0.00339046, 0.00700348, 0.97828127, 0.68548394,\n",
       "       0.00320867, 0.00517747, 0.00250409, 0.0061815 , 0.02776612,\n",
       "       0.01005298, 0.99643491, 0.00549919, 0.00517747, 0.00250409,\n",
       "       0.99951317, 0.00812806, 0.99600378, 0.00339046, 0.00184901,\n",
       "       0.99999471, 0.02243146, 0.71252689, 0.99847285, 0.06335411,\n",
       "       0.99592701, 0.00404936, 0.96808574, 0.57853661, 0.26947142,\n",
       "       0.57470095, 0.98797072, 0.99905167, 0.62013062, 0.01441103,\n",
       "       0.0152977 , 0.00412437, 0.99906295, 0.99498754, 0.01005298,\n",
       "       0.00603226, 0.99906962, 0.38949386, 0.00404936, 0.00184901,\n",
       "       0.9855036 , 0.01670506, 0.00517747, 0.99985806, 0.00265068,\n",
       "       0.07893113, 0.01326052, 0.30566125, 0.00250409, 0.00266014,\n",
       "       0.00250409, 0.96252997, 0.00517747, 0.00250409, 0.99927749,\n",
       "       0.99997965, 0.00897186, 0.84085119, 0.00339046, 0.99801912,\n",
       "       0.01317567, 0.00265068, 0.99782498, 0.00320867, 0.00702836,\n",
       "       0.99810474, 0.00460547, 0.91937087, 0.00265068, 0.01441103,\n",
       "       0.00662927, 0.62438816, 0.00339046, 0.00487447, 0.00860104,\n",
       "       0.91039223, 0.99993101, 0.00250409, 0.78597706, 0.00517747,\n",
       "       0.9591501 , 0.16931557, 0.00661777, 0.00360154, 0.00144508,\n",
       "       0.00635808, 0.99907547, 0.99906507, 0.00236559, 0.99561999,\n",
       "       0.99024173, 0.96981593, 0.99977102, 0.21640989, 0.99484543,\n",
       "       0.0115241 , 0.01010604, 0.01845898, 0.01725666, 0.01879106,\n",
       "       0.00487447])"
      ]
     },
     "execution_count": 27,
     "metadata": {},
     "output_type": "execute_result"
    }
   ],
   "source": [
    "logreg.predict_proba(X_test)[:,1]"
   ]
  },
  {
   "cell_type": "markdown",
   "id": "6d07d30b",
   "metadata": {
    "papermill": {
     "duration": 0.019604,
     "end_time": "2023-12-07T16:54:43.450069",
     "exception": false,
     "start_time": "2023-12-07T16:54:43.430465",
     "status": "completed"
    },
    "tags": []
   },
   "source": [
    "![](https://www.decisivedge.com/uploads/shutterstock_493554238.jpg)"
   ]
  },
  {
   "cell_type": "code",
   "execution_count": 55,
   "id": "7cfb3757",
   "metadata": {
    "execution": {
     "iopub.execute_input": "2023-12-07T16:54:43.493046Z",
     "iopub.status.busy": "2023-12-07T16:54:43.492106Z",
     "iopub.status.idle": "2023-12-07T16:54:43.499265Z",
     "shell.execute_reply": "2023-12-07T16:54:43.497806Z"
    },
    "papermill": {
     "duration": 0.031234,
     "end_time": "2023-12-07T16:54:43.501597",
     "exception": false,
     "start_time": "2023-12-07T16:54:43.470363",
     "status": "completed"
    },
    "tags": []
   },
   "outputs": [
    {
     "name": "stdout",
     "output_type": "stream",
     "text": [
      "Model accuracy score: 0.9474\n"
     ]
    }
   ],
   "source": [
    "from sklearn.metrics import accuracy_score\n",
    "\n",
    "print('Model accuracy score: {0:0.4f}'. format(accuracy_score(y_test, y_pred_test)))"
   ]
  },
  {
   "cell_type": "markdown",
   "id": "8428f9f8",
   "metadata": {
    "papermill": {
     "duration": 0.020375,
     "end_time": "2023-12-07T16:54:43.542749",
     "exception": false,
     "start_time": "2023-12-07T16:54:43.522374",
     "status": "completed"
    },
    "tags": []
   },
   "source": [
    "Compare the train-set and test-set accuracy"
   ]
  },
  {
   "cell_type": "code",
   "execution_count": 29,
   "id": "84c99ebf",
   "metadata": {
    "execution": {
     "iopub.execute_input": "2023-12-07T16:54:43.585767Z",
     "iopub.status.busy": "2023-12-07T16:54:43.585346Z",
     "iopub.status.idle": "2023-12-07T16:54:43.594694Z",
     "shell.execute_reply": "2023-12-07T16:54:43.593608Z"
    },
    "papermill": {
     "duration": 0.033228,
     "end_time": "2023-12-07T16:54:43.596931",
     "exception": false,
     "start_time": "2023-12-07T16:54:43.563703",
     "status": "completed"
    },
    "tags": []
   },
   "outputs": [
    {
     "data": {
      "text/plain": [
       "array([1, 1, 1, 0, 0, 0, 1, 0, 0, 1, 1, 0, 1, 0, 0, 1, 1, 0, 0, 0, 0, 0,\n",
       "       0, 0, 0, 0, 0, 1, 0, 0, 0, 0, 0, 1, 1, 0, 1, 0, 1, 1, 1, 0, 0, 0,\n",
       "       0, 1, 1, 0, 0, 1, 1, 0, 0, 1, 1, 0, 1, 0, 1, 1, 0, 0, 0, 1, 0, 1,\n",
       "       0, 1, 0, 0, 0, 0, 0, 1, 0, 0, 1, 0, 0, 1, 0, 0, 0, 0, 0, 1, 0, 0,\n",
       "       1, 0, 1, 0, 0, 1, 1, 1, 0, 0, 0, 0, 0, 0, 1, 1, 0, 0, 0, 1, 0, 0,\n",
       "       0, 1, 0, 0, 1, 0, 0, 0, 0, 0, 0, 0, 1, 0, 0, 0, 1, 1, 0, 1, 0, 0,\n",
       "       0, 1, 0, 0, 0, 1, 1, 0, 1, 0, 0, 1, 0, 0, 0, 0, 0, 0, 0, 1, 1, 1,\n",
       "       1, 0, 1, 0, 1, 0, 1, 1, 1, 0, 0, 1, 0, 0, 0, 0, 1, 1, 0, 0, 0, 1,\n",
       "       0, 0, 1, 0, 0, 0, 0, 1, 0, 0, 0, 0, 0, 0, 0, 0, 0, 0, 0, 0, 1, 0,\n",
       "       1, 0, 0, 0, 0, 0, 0, 1, 1, 1, 1, 0, 0, 1, 0, 1, 0, 1, 0, 0, 0, 0,\n",
       "       1, 0, 1, 0, 0, 0, 1, 0, 0, 0, 1, 0, 0, 0, 0, 0, 0, 0, 1, 0, 1, 0,\n",
       "       0, 0, 1, 0, 0, 0, 0, 0, 1, 0, 0, 0, 0, 1, 0, 0, 1, 0, 0, 0, 0, 1,\n",
       "       1, 0, 0, 0, 0, 1, 0, 0, 1, 0, 0, 0, 0, 1, 1, 0, 1, 0, 1, 0, 0, 0,\n",
       "       1, 1, 1, 0, 0, 0, 0, 0, 0, 0, 0, 1, 1, 0, 0, 0, 0, 0, 0, 0, 1, 1,\n",
       "       0, 0, 0, 0, 1, 1, 1, 0, 1, 0, 1, 0, 0, 0, 0, 0, 1, 0, 1, 1, 0, 0,\n",
       "       0, 0, 0, 0, 0, 1, 0, 0, 0, 1, 0, 0, 1, 1, 1, 0, 1, 1, 1, 0, 0, 0,\n",
       "       1, 0, 0, 0, 0, 1, 0, 1, 1, 1, 0, 0, 0, 1, 0, 1, 1, 1, 0, 0, 0, 1,\n",
       "       0, 1, 0, 0, 0, 0, 1, 1, 0, 0, 0, 1, 1, 0, 0, 1, 0, 0, 0, 1, 1, 0,\n",
       "       0, 0, 1, 0, 0, 0, 1, 0, 1, 0, 0, 1, 0, 0, 0, 0, 1, 1, 0, 0, 1, 1,\n",
       "       0, 0, 1, 1, 1, 0, 0, 1, 0, 0, 0, 0, 0, 1, 0, 1, 1, 0, 0, 0, 0, 1,\n",
       "       0, 0, 0, 0, 1, 0, 1, 0, 1, 0, 0, 1, 0, 0, 0, 0, 1, 0, 0, 0, 1, 0,\n",
       "       0, 1, 1, 1, 1, 0, 1, 1, 0, 1, 1, 0, 0, 0, 0, 0, 0, 1, 1, 0, 0, 0,\n",
       "       0, 1, 0, 1, 1, 0, 0, 0, 1, 1, 0, 0, 0, 0, 0, 0, 1, 0, 0, 1, 0, 0,\n",
       "       1, 0, 0, 0, 0, 1])"
      ]
     },
     "execution_count": 29,
     "metadata": {},
     "output_type": "execute_result"
    }
   ],
   "source": [
    "y_pred_train = logreg.predict(X_train)\n",
    "\n",
    "y_pred_train"
   ]
  },
  {
   "cell_type": "code",
   "execution_count": 30,
   "id": "66fc3ea7",
   "metadata": {
    "execution": {
     "iopub.execute_input": "2023-12-07T16:54:43.640481Z",
     "iopub.status.busy": "2023-12-07T16:54:43.639430Z",
     "iopub.status.idle": "2023-12-07T16:54:43.646986Z",
     "shell.execute_reply": "2023-12-07T16:54:43.645858Z"
    },
    "papermill": {
     "duration": 0.031697,
     "end_time": "2023-12-07T16:54:43.649250",
     "exception": false,
     "start_time": "2023-12-07T16:54:43.617553",
     "status": "completed"
    },
    "tags": []
   },
   "outputs": [
    {
     "name": "stdout",
     "output_type": "stream",
     "text": [
      "Training-set accuracy score: 0.9805\n"
     ]
    }
   ],
   "source": [
    "print('Training-set accuracy score: {0:0.4f}'. format(accuracy_score(y_train, y_pred_train)))"
   ]
  },
  {
   "cell_type": "markdown",
   "id": "f6d76291",
   "metadata": {
    "papermill": {
     "duration": 0.020365,
     "end_time": "2023-12-07T16:54:43.690214",
     "exception": false,
     "start_time": "2023-12-07T16:54:43.669849",
     "status": "completed"
    },
    "tags": []
   },
   "source": [
    "If there were a significant difference between the training and test set accuracies, it might suggest overfitting. However, in this case, the two accuracy scores are close, indicating that the model generalizes well to new data and is not overfitting."
   ]
  },
  {
   "cell_type": "markdown",
   "id": "93fc890d",
   "metadata": {
    "papermill": {
     "duration": 0.02058,
     "end_time": "2023-12-07T16:54:43.731554",
     "exception": false,
     "start_time": "2023-12-07T16:54:43.710974",
     "status": "completed"
    },
    "tags": []
   },
   "source": [
    "Compare model accuracy with null accuracy\n",
    "\n",
    "So, the model accuracy is 0.8501. But, we cannot say that our model is very good based on the above accuracy. We must compare it with the null accuracy. Null accuracy is the accuracy that could be achieved by always predicting the most frequent class."
   ]
  },
  {
   "cell_type": "code",
   "execution_count": 31,
   "id": "03cd020e",
   "metadata": {
    "execution": {
     "iopub.execute_input": "2023-12-07T16:54:43.775751Z",
     "iopub.status.busy": "2023-12-07T16:54:43.775166Z",
     "iopub.status.idle": "2023-12-07T16:54:43.782758Z",
     "shell.execute_reply": "2023-12-07T16:54:43.781902Z"
    },
    "papermill": {
     "duration": 0.032597,
     "end_time": "2023-12-07T16:54:43.784729",
     "exception": false,
     "start_time": "2023-12-07T16:54:43.752132",
     "status": "completed"
    },
    "tags": []
   },
   "outputs": [
    {
     "data": {
      "text/plain": [
       "Class\n",
       "0    107\n",
       "1     64\n",
       "Name: count, dtype: int64"
      ]
     },
     "execution_count": 31,
     "metadata": {},
     "output_type": "execute_result"
    }
   ],
   "source": [
    "y_test.value_counts()"
   ]
  },
  {
   "cell_type": "markdown",
   "id": "7ca79fbd",
   "metadata": {
    "papermill": {
     "duration": 0.020844,
     "end_time": "2023-12-07T16:54:43.826348",
     "exception": false,
     "start_time": "2023-12-07T16:54:43.805504",
     "status": "completed"
    },
    "tags": []
   },
   "source": [
    "We can see that the occurences of most frequent class is 107. So, we can calculate null accuracy by dividing 107 by total number of occurences i.e 107/171 = 62.57"
   ]
  },
  {
   "cell_type": "markdown",
   "id": "4f4e728c",
   "metadata": {
    "papermill": {
     "duration": 0.020338,
     "end_time": "2023-12-07T16:54:43.868604",
     "exception": false,
     "start_time": "2023-12-07T16:54:43.848266",
     "status": "completed"
    },
    "tags": []
   },
   "source": [
    "Null accuracy score: 0.6257"
   ]
  },
  {
   "cell_type": "markdown",
   "id": "f6e204a2",
   "metadata": {
    "papermill": {
     "duration": 0.020365,
     "end_time": "2023-12-07T16:54:43.909732",
     "exception": false,
     "start_time": "2023-12-07T16:54:43.889367",
     "status": "completed"
    },
    "tags": []
   },
   "source": [
    "The accuracy score of our model stands at an impressive 94.74%, outperforming the null accuracy score of 62.57%. This notable difference underscores the effectiveness of our Logistic Regression model in accurately predicting class labels.\n",
    "\n",
    "In summary, our classification model exhibits a high level of accuracy, demonstrating its proficiency in classifying instances correctly. The robust performance of our model is evident, indicating its reliability in making accurate predictions for the given task."
   ]
  },
  {
   "cell_type": "code",
   "execution_count": 57,
   "id": "11ad4d36",
   "metadata": {
    "execution": {
     "iopub.execute_input": "2023-12-07T16:54:43.954466Z",
     "iopub.status.busy": "2023-12-07T16:54:43.953785Z",
     "iopub.status.idle": "2023-12-07T16:54:43.962418Z",
     "shell.execute_reply": "2023-12-07T16:54:43.961337Z"
    },
    "papermill": {
     "duration": 0.03375,
     "end_time": "2023-12-07T16:54:43.964692",
     "exception": false,
     "start_time": "2023-12-07T16:54:43.930942",
     "status": "completed"
    },
    "tags": []
   },
   "outputs": [
    {
     "name": "stdout",
     "output_type": "stream",
     "text": [
      "Confusion matrix\n",
      "\n",
      " [[103   4]\n",
      " [  5  59]]\n",
      "\n",
      "True Positives(TP) =  103\n",
      "\n",
      "True Negatives(TN) =  59\n",
      "\n",
      "False Positives(FP) =  4\n",
      "\n",
      "False Negatives(FN) =  5\n"
     ]
    }
   ],
   "source": [
    "# Print the Confusion Matrix and slice it into four categories\n",
    "\n",
    "from sklearn.metrics import confusion_matrix\n",
    "\n",
    "cm = confusion_matrix(y_test, y_pred_test)\n",
    "\n",
    "print('Confusion matrix\\n\\n', cm)\n",
    "\n",
    "print('\\nTrue Positives(TP) = ', cm[0,0])\n",
    "\n",
    "print('\\nTrue Negatives(TN) = ', cm[1,1])\n",
    "\n",
    "print('\\nFalse Positives(FP) = ', cm[0,1])\n",
    "\n",
    "print('\\nFalse Negatives(FN) = ', cm[1,0])"
   ]
  },
  {
   "cell_type": "code",
   "execution_count": 58,
   "id": "56a1bee0",
   "metadata": {
    "execution": {
     "iopub.execute_input": "2023-12-07T16:54:44.007874Z",
     "iopub.status.busy": "2023-12-07T16:54:44.007445Z",
     "iopub.status.idle": "2023-12-07T16:54:44.250877Z",
     "shell.execute_reply": "2023-12-07T16:54:44.249878Z"
    },
    "papermill": {
     "duration": 0.267699,
     "end_time": "2023-12-07T16:54:44.253170",
     "exception": false,
     "start_time": "2023-12-07T16:54:43.985471",
     "status": "completed"
    },
    "tags": []
   },
   "outputs": [
    {
     "data": {
      "text/plain": [
       "<Axes: >"
      ]
     },
     "execution_count": 58,
     "metadata": {},
     "output_type": "execute_result"
    },
    {
     "data": {
      "image/png": "[encoded data removed]",
      "text/plain": [
       "<Figure size 640x480 with 2 Axes>"
      ]
     },
     "metadata": {},
     "output_type": "display_data"
    }
   ],
   "source": [
    "# visualize confusion matrix with seaborn heatmap\n",
    "\n",
    "cm_matrix = pd.DataFrame(data=cm, columns=['Actual Positive:1', 'Actual Negative:0'], \n",
    "                                 index=['Predict Positive:1', 'Predict Negative:0'])\n",
    "\n",
    "sns.heatmap(cm_matrix, annot=True, fmt='d', cmap='YlGnBu')"
   ]
  },
  {
   "cell_type": "code",
   "execution_count": 34,
   "id": "97f33d5d",
   "metadata": {
    "execution": {
     "iopub.execute_input": "2023-12-07T16:54:44.297253Z",
     "iopub.status.busy": "2023-12-07T16:54:44.296879Z",
     "iopub.status.idle": "2023-12-07T16:54:44.310710Z",
     "shell.execute_reply": "2023-12-07T16:54:44.309817Z"
    },
    "papermill": {
     "duration": 0.03863,
     "end_time": "2023-12-07T16:54:44.312841",
     "exception": false,
     "start_time": "2023-12-07T16:54:44.274211",
     "status": "completed"
    },
    "tags": []
   },
   "outputs": [
    {
     "name": "stdout",
     "output_type": "stream",
     "text": [
      "              precision    recall  f1-score   support\n",
      "\n",
      "           0       0.95      0.96      0.96       107\n",
      "           1       0.94      0.92      0.93        64\n",
      "\n",
      "    accuracy                           0.95       171\n",
      "   macro avg       0.95      0.94      0.94       171\n",
      "weighted avg       0.95      0.95      0.95       171\n",
      "\n"
     ]
    }
   ],
   "source": [
    "from sklearn.metrics import classification_report\n",
    "\n",
    "print(classification_report(y_test, y_pred_test))"
   ]
  },
  {
   "cell_type": "code",
   "execution_count": 35,
   "id": "015089aa",
   "metadata": {
    "execution": {
     "iopub.execute_input": "2023-12-07T16:54:44.356624Z",
     "iopub.status.busy": "2023-12-07T16:54:44.356208Z",
     "iopub.status.idle": "2023-12-07T16:54:44.362808Z",
     "shell.execute_reply": "2023-12-07T16:54:44.361757Z"
    },
    "papermill": {
     "duration": 0.031077,
     "end_time": "2023-12-07T16:54:44.364969",
     "exception": false,
     "start_time": "2023-12-07T16:54:44.333892",
     "status": "completed"
    },
    "tags": []
   },
   "outputs": [
    {
     "name": "stdout",
     "output_type": "stream",
     "text": [
      "Classification accuracy : 0.9474\n"
     ]
    }
   ],
   "source": [
    "TP = cm[0,0]\n",
    "TN = cm[1,1]\n",
    "FP = cm[0,1]\n",
    "FN = cm[1,0]\n",
    "# print classification accuracy\n",
    "\n",
    "classification_accuracy = (TP + TN) / float(TP + TN + FP + FN)\n",
    "\n",
    "print('Classification accuracy : {0:0.4f}'.format(classification_accuracy))"
   ]
  },
  {
   "cell_type": "code",
   "execution_count": 36,
   "id": "bf74fc61",
   "metadata": {
    "execution": {
     "iopub.execute_input": "2023-12-07T16:54:44.412882Z",
     "iopub.status.busy": "2023-12-07T16:54:44.412461Z",
     "iopub.status.idle": "2023-12-07T16:54:44.418483Z",
     "shell.execute_reply": "2023-12-07T16:54:44.417373Z"
    },
    "papermill": {
     "duration": 0.034411,
     "end_time": "2023-12-07T16:54:44.421016",
     "exception": false,
     "start_time": "2023-12-07T16:54:44.386605",
     "status": "completed"
    },
    "tags": []
   },
   "outputs": [
    {
     "name": "stdout",
     "output_type": "stream",
     "text": [
      "Classification error : 0.0526\n"
     ]
    }
   ],
   "source": [
    "# print classification error\n",
    "\n",
    "classification_error = (FP + FN) / float(TP + TN + FP + FN)\n",
    "\n",
    "print('Classification error : {0:0.4f}'.format(classification_error))"
   ]
  },
  {
   "cell_type": "code",
   "execution_count": 59,
   "id": "7be4317b",
   "metadata": {
    "execution": {
     "iopub.execute_input": "2023-12-07T16:54:44.466628Z",
     "iopub.status.busy": "2023-12-07T16:54:44.465868Z",
     "iopub.status.idle": "2023-12-07T16:54:44.471705Z",
     "shell.execute_reply": "2023-12-07T16:54:44.470467Z"
    },
    "papermill": {
     "duration": 0.031169,
     "end_time": "2023-12-07T16:54:44.473828",
     "exception": false,
     "start_time": "2023-12-07T16:54:44.442659",
     "status": "completed"
    },
    "tags": []
   },
   "outputs": [
    {
     "name": "stdout",
     "output_type": "stream",
     "text": [
      "Precision : 0.9626\n"
     ]
    }
   ],
   "source": [
    "# print precision score\n",
    "\n",
    "precision = TP / float(TP + FP)\n",
    "\n",
    "\n",
    "print('Precision : {0:0.4f}'.format(precision))"
   ]
  },
  {
   "cell_type": "code",
   "execution_count": 60,
   "id": "43b08d21",
   "metadata": {
    "execution": {
     "iopub.execute_input": "2023-12-07T16:54:44.519454Z",
     "iopub.status.busy": "2023-12-07T16:54:44.518781Z",
     "iopub.status.idle": "2023-12-07T16:54:44.524700Z",
     "shell.execute_reply": "2023-12-07T16:54:44.523594Z"
    },
    "papermill": {
     "duration": 0.031008,
     "end_time": "2023-12-07T16:54:44.526908",
     "exception": false,
     "start_time": "2023-12-07T16:54:44.495900",
     "status": "completed"
    },
    "tags": []
   },
   "outputs": [
    {
     "name": "stdout",
     "output_type": "stream",
     "text": [
      "Recall or Sensitivity : 0.9537\n"
     ]
    }
   ],
   "source": [
    "recall = TP / float(TP + FN)\n",
    "\n",
    "print('Recall or Sensitivity : {0:0.4f}'.format(recall))"
   ]
  },
  {
   "cell_type": "code",
   "execution_count": 39,
   "id": "e449c0ee",
   "metadata": {
    "execution": {
     "iopub.execute_input": "2023-12-07T16:54:44.573045Z",
     "iopub.status.busy": "2023-12-07T16:54:44.572663Z",
     "iopub.status.idle": "2023-12-07T16:54:44.578175Z",
     "shell.execute_reply": "2023-12-07T16:54:44.577081Z"
    },
    "papermill": {
     "duration": 0.03141,
     "end_time": "2023-12-07T16:54:44.580459",
     "exception": false,
     "start_time": "2023-12-07T16:54:44.549049",
     "status": "completed"
    },
    "tags": []
   },
   "outputs": [
    {
     "name": "stdout",
     "output_type": "stream",
     "text": [
      "False Positive Rate : 0.0635\n"
     ]
    }
   ],
   "source": [
    "false_positive_rate = FP / float(FP + TN)\n",
    "\n",
    "\n",
    "print('False Positive Rate : {0:0.4f}'.format(false_positive_rate))"
   ]
  },
  {
   "cell_type": "code",
   "execution_count": 40,
   "id": "dab34234",
   "metadata": {
    "execution": {
     "iopub.execute_input": "2023-12-07T16:54:44.625718Z",
     "iopub.status.busy": "2023-12-07T16:54:44.625259Z",
     "iopub.status.idle": "2023-12-07T16:54:44.630863Z",
     "shell.execute_reply": "2023-12-07T16:54:44.629752Z"
    },
    "papermill": {
     "duration": 0.030938,
     "end_time": "2023-12-07T16:54:44.633040",
     "exception": false,
     "start_time": "2023-12-07T16:54:44.602102",
     "status": "completed"
    },
    "tags": []
   },
   "outputs": [
    {
     "name": "stdout",
     "output_type": "stream",
     "text": [
      "Specificity : 0.9365\n"
     ]
    }
   ],
   "source": [
    "specificity = TN / (TN + FP)\n",
    "\n",
    "print('Specificity : {0:0.4f}'.format(specificity))"
   ]
  },
  {
   "cell_type": "markdown",
   "id": "140d0ab6",
   "metadata": {
    "papermill": {
     "duration": 0.021672,
     "end_time": "2023-12-07T16:54:44.677016",
     "exception": false,
     "start_time": "2023-12-07T16:54:44.655344",
     "status": "completed"
    },
    "tags": []
   },
   "source": [
    "Experimenting with different threshold values"
   ]
  },
  {
   "cell_type": "code",
   "execution_count": 41,
   "id": "c0d6819b",
   "metadata": {
    "execution": {
     "iopub.execute_input": "2023-12-07T16:54:44.723736Z",
     "iopub.status.busy": "2023-12-07T16:54:44.723322Z",
     "iopub.status.idle": "2023-12-07T16:54:44.749503Z",
     "shell.execute_reply": "2023-12-07T16:54:44.748124Z"
    },
    "papermill": {
     "duration": 0.052846,
     "end_time": "2023-12-07T16:54:44.751971",
     "exception": false,
     "start_time": "2023-12-07T16:54:44.699125",
     "status": "completed"
    },
    "tags": []
   },
   "outputs": [
    {
     "name": "stdout",
     "output_type": "stream",
     "text": [
      "With 0.1 threshold the Confusion Matrix is  \n",
      "\n",
      " [[102   5]\n",
      " [  0  64]] \n",
      "\n",
      " with 166 correct predictions,  \n",
      "\n",
      " 5 Type I errors( False Positives),  \n",
      "\n",
      " 0 Type II errors( False Negatives),  \n",
      "\n",
      " Accuracy score:  0.9707602339181286 \n",
      "\n",
      " Sensitivity:  1.0 \n",
      "\n",
      " Specificity:  0.9532710280373832 \n",
      "\n",
      " ==================================================== \n",
      "\n",
      "\n",
      "With 0.2 threshold the Confusion Matrix is  \n",
      "\n",
      " [[102   5]\n",
      " [  1  63]] \n",
      "\n",
      " with 165 correct predictions,  \n",
      "\n",
      " 5 Type I errors( False Positives),  \n",
      "\n",
      " 1 Type II errors( False Negatives),  \n",
      "\n",
      " Accuracy score:  0.9649122807017544 \n",
      "\n",
      " Sensitivity:  0.984375 \n",
      "\n",
      " Specificity:  0.9532710280373832 \n",
      "\n",
      " ==================================================== \n",
      "\n",
      "\n",
      "With 0.3 threshold the Confusion Matrix is  \n",
      "\n",
      " [[103   4]\n",
      " [  3  61]] \n",
      "\n",
      " with 164 correct predictions,  \n",
      "\n",
      " 4 Type I errors( False Positives),  \n",
      "\n",
      " 3 Type II errors( False Negatives),  \n",
      "\n",
      " Accuracy score:  0.9590643274853801 \n",
      "\n",
      " Sensitivity:  0.953125 \n",
      "\n",
      " Specificity:  0.9626168224299065 \n",
      "\n",
      " ==================================================== \n",
      "\n",
      "\n",
      "With 0.4 threshold the Confusion Matrix is  \n",
      "\n",
      " [[103   4]\n",
      " [  5  59]] \n",
      "\n",
      " with 162 correct predictions,  \n",
      "\n",
      " 4 Type I errors( False Positives),  \n",
      "\n",
      " 5 Type II errors( False Negatives),  \n",
      "\n",
      " Accuracy score:  0.9473684210526315 \n",
      "\n",
      " Sensitivity:  0.921875 \n",
      "\n",
      " Specificity:  0.9626168224299065 \n",
      "\n",
      " ==================================================== \n",
      "\n",
      "\n"
     ]
    }
   ],
   "source": [
    "from sklearn.metrics import confusion_matrix, accuracy_score\n",
    "\n",
    "for i in range(1, 5):\n",
    "    cm1 = 0\n",
    "    y_pred1 = logreg.predict_proba(X_test)[:, 1]\n",
    "    threshold = i / 10\n",
    "    y_pred2 = (y_pred1 > threshold).astype(int)\n",
    "    cm1 = confusion_matrix(y_test, y_pred2)\n",
    "\n",
    "    print(\n",
    "        'With',\n",
    "        threshold,\n",
    "        'threshold the Confusion Matrix is ',\n",
    "        '\\n\\n',\n",
    "        cm1,\n",
    "        '\\n\\n',\n",
    "        'with',\n",
    "        cm1[0, 0] + cm1[1, 1],\n",
    "        'correct predictions, ',\n",
    "        '\\n\\n',\n",
    "        cm1[0, 1],\n",
    "        'Type I errors( False Positives), ',\n",
    "        '\\n\\n',\n",
    "        cm1[1, 0],\n",
    "        'Type II errors( False Negatives), ',\n",
    "        '\\n\\n',\n",
    "        'Accuracy score: ',\n",
    "        accuracy_score(y_test, y_pred2),\n",
    "        '\\n\\n',\n",
    "        'Sensitivity: ',\n",
    "        cm1[1, 1] / (float(cm1[1, 1] + cm1[1, 0])),\n",
    "        '\\n\\n',\n",
    "        'Specificity: ',\n",
    "        cm1[0, 0] / (float(cm1[0, 0] + cm1[0, 1])),\n",
    "        '\\n\\n',\n",
    "        '====================================================',\n",
    "        '\\n\\n',\n",
    "    )\n"
   ]
  },
  {
   "cell_type": "markdown",
   "id": "e6a7f51a",
   "metadata": {
    "papermill": {
     "duration": 0.022526,
     "end_time": "2023-12-07T16:54:44.797381",
     "exception": false,
     "start_time": "2023-12-07T16:54:44.774855",
     "status": "completed"
    },
    "tags": []
   },
   "source": [
    " In medical or critical applications, a high sensitivity is often desired because it indicates a low rate of missing positive cases, which could be important, especially when the cost of false negatives is high.\n",
    "\n",
    "So, in general, a higher sensitivity is considered better for such cases.\n"
   ]
  },
  {
   "cell_type": "markdown",
   "id": "11ca2daf",
   "metadata": {
    "papermill": {
     "duration": 0.022286,
     "end_time": "2023-12-07T16:54:44.842706",
     "exception": false,
     "start_time": "2023-12-07T16:54:44.820420",
     "status": "completed"
    },
    "tags": []
   },
   "source": [
    "So we will pick up the model with threshold 0.1"
   ]
  },
  {
   "cell_type": "code",
   "execution_count": 61,
   "id": "cd70dd0f",
   "metadata": {
    "execution": {
     "iopub.execute_input": "2023-12-07T16:54:44.889202Z",
     "iopub.status.busy": "2023-12-07T16:54:44.888818Z",
     "iopub.status.idle": "2023-12-07T16:54:44.904253Z",
     "shell.execute_reply": "2023-12-07T16:54:44.903316Z"
    },
    "papermill": {
     "duration": 0.041558,
     "end_time": "2023-12-07T16:54:44.906613",
     "exception": false,
     "start_time": "2023-12-07T16:54:44.865055",
     "status": "completed"
    },
    "tags": []
   },
   "outputs": [
    {
     "data": {
      "text/html": [
       "<style>#sk-container-id-4 {\n",
       "  /* Definition of color scheme common for light and dark mode */\n",
       "  --sklearn-color-text: black;\n",
       "  --sklearn-color-line: gray;\n",
       "  /* Definition of color scheme for unfitted estimators */\n",
       "  --sklearn-color-unfitted-level-0: #fff5e6;\n",
       "  --sklearn-color-unfitted-level-1: #f6e4d2;\n",
       "  --sklearn-color-unfitted-level-2: #ffe0b3;\n",
       "  --sklearn-color-unfitted-level-3: chocolate;\n",
       "  /* Definition of color scheme for fitted estimators */\n",
       "  --sklearn-color-fitted-level-0: #f0f8ff;\n",
       "  --sklearn-color-fitted-level-1: #d4ebff;\n",
       "  --sklearn-color-fitted-level-2: #b3dbfd;\n",
       "  --sklearn-color-fitted-level-3: cornflowerblue;\n",
       "\n",
       "  /* Specific color for light theme */\n",
       "  --sklearn-color-text-on-default-background: var(--sg-text-color, var(--theme-code-foreground, var(--jp-content-font-color1, black)));\n",
       "  --sklearn-color-background: var(--sg-background-color, var(--theme-background, var(--jp-layout-color0, white)));\n",
       "  --sklearn-color-border-box: var(--sg-text-color, var(--theme-code-foreground, var(--jp-content-font-color1, black)));\n",
       "  --sklearn-color-icon: #696969;\n",
       "\n",
       "  @media (prefers-color-scheme: dark) {\n",
       "    /* Redefinition of color scheme for dark theme */\n",
       "    --sklearn-color-text-on-default-background: var(--sg-text-color, var(--theme-code-foreground, var(--jp-content-font-color1, white)));\n",
       "    --sklearn-color-background: var(--sg-background-color, var(--theme-background, var(--jp-layout-color0, #111)));\n",
       "    --sklearn-color-border-box: var(--sg-text-color, var(--theme-code-foreground, var(--jp-content-font-color1, white)));\n",
       "    --sklearn-color-icon: #878787;\n",
       "  }\n",
       "}\n",
       "\n",
       "#sk-container-id-4 {\n",
       "  color: var(--sklearn-color-text);\n",
       "}\n",
       "\n",
       "#sk-container-id-4 pre {\n",
       "  padding: 0;\n",
       "}\n",
       "\n",
       "#sk-container-id-4 input.sk-hidden--visually {\n",
       "  border: 0;\n",
       "  clip: rect(1px 1px 1px 1px);\n",
       "  clip: rect(1px, 1px, 1px, 1px);\n",
       "  height: 1px;\n",
       "  margin: -1px;\n",
       "  overflow: hidden;\n",
       "  padding: 0;\n",
       "  position: absolute;\n",
       "  width: 1px;\n",
       "}\n",
       "\n",
       "#sk-container-id-4 div.sk-dashed-wrapped {\n",
       "  border: 1px dashed var(--sklearn-color-line);\n",
       "  margin: 0 0.4em 0.5em 0.4em;\n",
       "  box-sizing: border-box;\n",
       "  padding-bottom: 0.4em;\n",
       "  background-color: var(--sklearn-color-background);\n",
       "}\n",
       "\n",
       "#sk-container-id-4 div.sk-container {\n",
       "  /* jupyter's `normalize.less` sets `[hidden] { display: none; }`\n",
       "     but bootstrap.min.css set `[hidden] { display: none !important; }`\n",
       "     so we also need the `!important` here to be able to override the\n",
       "     default hidden behavior on the sphinx rendered scikit-learn.org.\n",
       "     See: https://github.com/scikit-learn/scikit-learn/issues/21755 */\n",
       "  display: inline-block !important;\n",
       "  position: relative;\n",
       "}\n",
       "\n",
       "#sk-container-id-4 div.sk-text-repr-fallback {\n",
       "  display: none;\n",
       "}\n",
       "\n",
       "div.sk-parallel-item,\n",
       "div.sk-serial,\n",
       "div.sk-item {\n",
       "  /* draw centered vertical line to link estimators */\n",
       "  background-image: linear-gradient(var(--sklearn-color-text-on-default-background), var(--sklearn-color-text-on-default-background));\n",
       "  background-size: 2px 100%;\n",
       "  background-repeat: no-repeat;\n",
       "  background-position: center center;\n",
       "}\n",
       "\n",
       "/* Parallel-specific style estimator block */\n",
       "\n",
       "#sk-container-id-4 div.sk-parallel-item::after {\n",
       "  content: \"\";\n",
       "  width: 100%;\n",
       "  border-bottom: 2px solid var(--sklearn-color-text-on-default-background);\n",
       "  flex-grow: 1;\n",
       "}\n",
       "\n",
       "#sk-container-id-4 div.sk-parallel {\n",
       "  display: flex;\n",
       "  align-items: stretch;\n",
       "  justify-content: center;\n",
       "  background-color: var(--sklearn-color-background);\n",
       "  position: relative;\n",
       "}\n",
       "\n",
       "#sk-container-id-4 div.sk-parallel-item {\n",
       "  display: flex;\n",
       "  flex-direction: column;\n",
       "}\n",
       "\n",
       "#sk-container-id-4 div.sk-parallel-item:first-child::after {\n",
       "  align-self: flex-end;\n",
       "  width: 50%;\n",
       "}\n",
       "\n",
       "#sk-container-id-4 div.sk-parallel-item:last-child::after {\n",
       "  align-self: flex-start;\n",
       "  width: 50%;\n",
       "}\n",
       "\n",
       "#sk-container-id-4 div.sk-parallel-item:only-child::after {\n",
       "  width: 0;\n",
       "}\n",
       "\n",
       "/* Serial-specific style estimator block */\n",
       "\n",
       "#sk-container-id-4 div.sk-serial {\n",
       "  display: flex;\n",
       "  flex-direction: column;\n",
       "  align-items: center;\n",
       "  background-color: var(--sklearn-color-background);\n",
       "  padding-right: 1em;\n",
       "  padding-left: 1em;\n",
       "}\n",
       "\n",
       "\n",
       "/* Toggleable style: style used for estimator/Pipeline/ColumnTransformer box that is\n",
       "clickable and can be expanded/collapsed.\n",
       "- Pipeline and ColumnTransformer use this feature and define the default style\n",
       "- Estimators will overwrite some part of the style using the `sk-estimator` class\n",
       "*/\n",
       "\n",
       "/* Pipeline and ColumnTransformer style (default) */\n",
       "\n",
       "#sk-container-id-4 div.sk-toggleable {\n",
       "  /* Default theme specific background. It is overwritten whether we have a\n",
       "  specific estimator or a Pipeline/ColumnTransformer */\n",
       "  background-color: var(--sklearn-color-background);\n",
       "}\n",
       "\n",
       "/* Toggleable label */\n",
       "#sk-container-id-4 label.sk-toggleable__label {\n",
       "  cursor: pointer;\n",
       "  display: block;\n",
       "  width: 100%;\n",
       "  margin-bottom: 0;\n",
       "  padding: 0.5em;\n",
       "  box-sizing: border-box;\n",
       "  text-align: center;\n",
       "}\n",
       "\n",
       "#sk-container-id-4 label.sk-toggleable__label-arrow:before {\n",
       "  /* Arrow on the left of the label */\n",
       "  content: \"▸\";\n",
       "  float: left;\n",
       "  margin-right: 0.25em;\n",
       "  color: var(--sklearn-color-icon);\n",
       "}\n",
       "\n",
       "#sk-container-id-4 label.sk-toggleable__label-arrow:hover:before {\n",
       "  color: var(--sklearn-color-text);\n",
       "}\n",
       "\n",
       "/* Toggleable content - dropdown */\n",
       "\n",
       "#sk-container-id-4 div.sk-toggleable__content {\n",
       "  max-height: 0;\n",
       "  max-width: 0;\n",
       "  overflow: hidden;\n",
       "  text-align: left;\n",
       "  /* unfitted */\n",
       "  background-color: var(--sklearn-color-unfitted-level-0);\n",
       "}\n",
       "\n",
       "#sk-container-id-4 div.sk-toggleable__content.fitted {\n",
       "  /* fitted */\n",
       "  background-color: var(--sklearn-color-fitted-level-0);\n",
       "}\n",
       "\n",
       "#sk-container-id-4 div.sk-toggleable__content pre {\n",
       "  margin: 0.2em;\n",
       "  border-radius: 0.25em;\n",
       "  color: var(--sklearn-color-text);\n",
       "  /* unfitted */\n",
       "  background-color: var(--sklearn-color-unfitted-level-0);\n",
       "}\n",
       "\n",
       "#sk-container-id-4 div.sk-toggleable__content.fitted pre {\n",
       "  /* unfitted */\n",
       "  background-color: var(--sklearn-color-fitted-level-0);\n",
       "}\n",
       "\n",
       "#sk-container-id-4 input.sk-toggleable__control:checked~div.sk-toggleable__content {\n",
       "  /* Expand drop-down */\n",
       "  max-height: 200px;\n",
       "  max-width: 100%;\n",
       "  overflow: auto;\n",
       "}\n",
       "\n",
       "#sk-container-id-4 input.sk-toggleable__control:checked~label.sk-toggleable__label-arrow:before {\n",
       "  content: \"▾\";\n",
       "}\n",
       "\n",
       "/* Pipeline/ColumnTransformer-specific style */\n",
       "\n",
       "#sk-container-id-4 div.sk-label input.sk-toggleable__control:checked~label.sk-toggleable__label {\n",
       "  color: var(--sklearn-color-text);\n",
       "  background-color: var(--sklearn-color-unfitted-level-2);\n",
       "}\n",
       "\n",
       "#sk-container-id-4 div.sk-label.fitted input.sk-toggleable__control:checked~label.sk-toggleable__label {\n",
       "  background-color: var(--sklearn-color-fitted-level-2);\n",
       "}\n",
       "\n",
       "/* Estimator-specific style */\n",
       "\n",
       "/* Colorize estimator box */\n",
       "#sk-container-id-4 div.sk-estimator input.sk-toggleable__control:checked~label.sk-toggleable__label {\n",
       "  /* unfitted */\n",
       "  background-color: var(--sklearn-color-unfitted-level-2);\n",
       "}\n",
       "\n",
       "#sk-container-id-4 div.sk-estimator.fitted input.sk-toggleable__control:checked~label.sk-toggleable__label {\n",
       "  /* fitted */\n",
       "  background-color: var(--sklearn-color-fitted-level-2);\n",
       "}\n",
       "\n",
       "#sk-container-id-4 div.sk-label label.sk-toggleable__label,\n",
       "#sk-container-id-4 div.sk-label label {\n",
       "  /* The background is the default theme color */\n",
       "  color: var(--sklearn-color-text-on-default-background);\n",
       "}\n",
       "\n",
       "/* On hover, darken the color of the background */\n",
       "#sk-container-id-4 div.sk-label:hover label.sk-toggleable__label {\n",
       "  color: var(--sklearn-color-text);\n",
       "  background-color: var(--sklearn-color-unfitted-level-2);\n",
       "}\n",
       "\n",
       "/* Label box, darken color on hover, fitted */\n",
       "#sk-container-id-4 div.sk-label.fitted:hover label.sk-toggleable__label.fitted {\n",
       "  color: var(--sklearn-color-text);\n",
       "  background-color: var(--sklearn-color-fitted-level-2);\n",
       "}\n",
       "\n",
       "/* Estimator label */\n",
       "\n",
       "#sk-container-id-4 div.sk-label label {\n",
       "  font-family: monospace;\n",
       "  font-weight: bold;\n",
       "  display: inline-block;\n",
       "  line-height: 1.2em;\n",
       "}\n",
       "\n",
       "#sk-container-id-4 div.sk-label-container {\n",
       "  text-align: center;\n",
       "}\n",
       "\n",
       "/* Estimator-specific */\n",
       "#sk-container-id-4 div.sk-estimator {\n",
       "  font-family: monospace;\n",
       "  border: 1px dotted var(--sklearn-color-border-box);\n",
       "  border-radius: 0.25em;\n",
       "  box-sizing: border-box;\n",
       "  margin-bottom: 0.5em;\n",
       "  /* unfitted */\n",
       "  background-color: var(--sklearn-color-unfitted-level-0);\n",
       "}\n",
       "\n",
       "#sk-container-id-4 div.sk-estimator.fitted {\n",
       "  /* fitted */\n",
       "  background-color: var(--sklearn-color-fitted-level-0);\n",
       "}\n",
       "\n",
       "/* on hover */\n",
       "#sk-container-id-4 div.sk-estimator:hover {\n",
       "  /* unfitted */\n",
       "  background-color: var(--sklearn-color-unfitted-level-2);\n",
       "}\n",
       "\n",
       "#sk-container-id-4 div.sk-estimator.fitted:hover {\n",
       "  /* fitted */\n",
       "  background-color: var(--sklearn-color-fitted-level-2);\n",
       "}\n",
       "\n",
       "/* Specification for estimator info (e.g. \"i\" and \"?\") */\n",
       "\n",
       "/* Common style for \"i\" and \"?\" */\n",
       "\n",
       ".sk-estimator-doc-link,\n",
       "a:link.sk-estimator-doc-link,\n",
       "a:visited.sk-estimator-doc-link {\n",
       "  float: right;\n",
       "  font-size: smaller;\n",
       "  line-height: 1em;\n",
       "  font-family: monospace;\n",
       "  background-color: var(--sklearn-color-background);\n",
       "  border-radius: 1em;\n",
       "  height: 1em;\n",
       "  width: 1em;\n",
       "  text-decoration: none !important;\n",
       "  margin-left: 1ex;\n",
       "  /* unfitted */\n",
       "  border: var(--sklearn-color-unfitted-level-1) 1pt solid;\n",
       "  color: var(--sklearn-color-unfitted-level-1);\n",
       "}\n",
       "\n",
       ".sk-estimator-doc-link.fitted,\n",
       "a:link.sk-estimator-doc-link.fitted,\n",
       "a:visited.sk-estimator-doc-link.fitted {\n",
       "  /* fitted */\n",
       "  border: var(--sklearn-color-fitted-level-1) 1pt solid;\n",
       "  color: var(--sklearn-color-fitted-level-1);\n",
       "}\n",
       "\n",
       "/* On hover */\n",
       "div.sk-estimator:hover .sk-estimator-doc-link:hover,\n",
       ".sk-estimator-doc-link:hover,\n",
       "div.sk-label-container:hover .sk-estimator-doc-link:hover,\n",
       ".sk-estimator-doc-link:hover {\n",
       "  /* unfitted */\n",
       "  background-color: var(--sklearn-color-unfitted-level-3);\n",
       "  color: var(--sklearn-color-background);\n",
       "  text-decoration: none;\n",
       "}\n",
       "\n",
       "div.sk-estimator.fitted:hover .sk-estimator-doc-link.fitted:hover,\n",
       ".sk-estimator-doc-link.fitted:hover,\n",
       "div.sk-label-container:hover .sk-estimator-doc-link.fitted:hover,\n",
       ".sk-estimator-doc-link.fitted:hover {\n",
       "  /* fitted */\n",
       "  background-color: var(--sklearn-color-fitted-level-3);\n",
       "  color: var(--sklearn-color-background);\n",
       "  text-decoration: none;\n",
       "}\n",
       "\n",
       "/* Span, style for the box shown on hovering the info icon */\n",
       ".sk-estimator-doc-link span {\n",
       "  display: none;\n",
       "  z-index: 9999;\n",
       "  position: relative;\n",
       "  font-weight: normal;\n",
       "  right: .2ex;\n",
       "  padding: .5ex;\n",
       "  margin: .5ex;\n",
       "  width: min-content;\n",
       "  min-width: 20ex;\n",
       "  max-width: 50ex;\n",
       "  color: var(--sklearn-color-text);\n",
       "  box-shadow: 2pt 2pt 4pt #999;\n",
       "  /* unfitted */\n",
       "  background: var(--sklearn-color-unfitted-level-0);\n",
       "  border: .5pt solid var(--sklearn-color-unfitted-level-3);\n",
       "}\n",
       "\n",
       ".sk-estimator-doc-link.fitted span {\n",
       "  /* fitted */\n",
       "  background: var(--sklearn-color-fitted-level-0);\n",
       "  border: var(--sklearn-color-fitted-level-3);\n",
       "}\n",
       "\n",
       ".sk-estimator-doc-link:hover span {\n",
       "  display: block;\n",
       "}\n",
       "\n",
       "/* \"?\"-specific style due to the `<a>` HTML tag */\n",
       "\n",
       "#sk-container-id-4 a.estimator_doc_link {\n",
       "  float: right;\n",
       "  font-size: 1rem;\n",
       "  line-height: 1em;\n",
       "  font-family: monospace;\n",
       "  background-color: var(--sklearn-color-background);\n",
       "  border-radius: 1rem;\n",
       "  height: 1rem;\n",
       "  width: 1rem;\n",
       "  text-decoration: none;\n",
       "  /* unfitted */\n",
       "  color: var(--sklearn-color-unfitted-level-1);\n",
       "  border: var(--sklearn-color-unfitted-level-1) 1pt solid;\n",
       "}\n",
       "\n",
       "#sk-container-id-4 a.estimator_doc_link.fitted {\n",
       "  /* fitted */\n",
       "  border: var(--sklearn-color-fitted-level-1) 1pt solid;\n",
       "  color: var(--sklearn-color-fitted-level-1);\n",
       "}\n",
       "\n",
       "/* On hover */\n",
       "#sk-container-id-4 a.estimator_doc_link:hover {\n",
       "  /* unfitted */\n",
       "  background-color: var(--sklearn-color-unfitted-level-3);\n",
       "  color: var(--sklearn-color-background);\n",
       "  text-decoration: none;\n",
       "}\n",
       "\n",
       "#sk-container-id-4 a.estimator_doc_link.fitted:hover {\n",
       "  /* fitted */\n",
       "  background-color: var(--sklearn-color-fitted-level-3);\n",
       "}\n",
       "</style><div id=\"sk-container-id-4\" class=\"sk-top-container\"><div class=\"sk-text-repr-fallback\"><pre>LogisticRegression(class_weight={0: 0.1, 1: 0.9}, random_state=0)</pre><b>In a Jupyter environment, please rerun this cell to show the HTML representation or trust the notebook. <br />On GitHub, the HTML representation is unable to render, please try loading this page with nbviewer.org.</b></div><div class=\"sk-container\" hidden><div class=\"sk-item\"><div class=\"sk-estimator fitted sk-toggleable\"><input class=\"sk-toggleable__control sk-hidden--visually\" id=\"sk-estimator-id-4\" type=\"checkbox\" checked><label for=\"sk-estimator-id-4\" class=\"sk-toggleable__label fitted sk-toggleable__label-arrow fitted\">&nbsp;&nbsp;LogisticRegression<a class=\"sk-estimator-doc-link fitted\" rel=\"noreferrer\" target=\"_blank\" href=\"https://scikit-learn.org/1.5/modules/generated/sklearn.linear_model.LogisticRegression.html\">?<span>Documentation for LogisticRegression</span></a><span class=\"sk-estimator-doc-link fitted\">i<span>Fitted</span></span></label><div class=\"sk-toggleable__content fitted\"><pre>LogisticRegression(class_weight={0: 0.1, 1: 0.9}, random_state=0)</pre></div> </div></div></div></div>"
      ],
      "text/plain": [
       "LogisticRegression(class_weight={0: 0.1, 1: 0.9}, random_state=0)"
      ]
     },
     "execution_count": 61,
     "metadata": {},
     "output_type": "execute_result"
    }
   ],
   "source": [
    "# Set the threshold\n",
    "threshold = 0.1\n",
    "\n",
    "# Create a dictionary with class weights\n",
    "class_weights = {0: threshold, 1: 1 - threshold}\n",
    "\n",
    "# Instantiate the model with class weights\n",
    "logreg_1 = LogisticRegression(class_weight=class_weights, random_state=0)\n",
    "\n",
    "# Fit the model\n",
    "logreg_1.fit(X_train, y_train)"
   ]
  },
  {
   "cell_type": "code",
   "execution_count": 62,
   "id": "d7fffc28",
   "metadata": {
    "execution": {
     "iopub.execute_input": "2023-12-07T16:54:44.954222Z",
     "iopub.status.busy": "2023-12-07T16:54:44.953836Z",
     "iopub.status.idle": "2023-12-07T16:54:44.963127Z",
     "shell.execute_reply": "2023-12-07T16:54:44.962057Z"
    },
    "papermill": {
     "duration": 0.036161,
     "end_time": "2023-12-07T16:54:44.965465",
     "exception": false,
     "start_time": "2023-12-07T16:54:44.929304",
     "status": "completed"
    },
    "tags": []
   },
   "outputs": [
    {
     "data": {
      "text/plain": [
       "array([0, 0, 1, 1, 0, 0, 0, 1, 0, 0, 1, 0, 1, 0, 0, 1, 1, 1, 1, 0, 0, 0,\n",
       "       1, 0, 1, 1, 0, 0, 0, 1, 0, 1, 1, 0, 0, 0, 1, 1, 0, 1, 0, 0, 0, 0,\n",
       "       0, 0, 0, 1, 0, 0, 1, 0, 1, 0, 0, 0, 1, 1, 0, 1, 0, 0, 0, 0, 0, 0,\n",
       "       0, 0, 1, 1, 0, 0, 0, 0, 0, 0, 1, 0, 0, 0, 1, 0, 1, 0, 0, 1, 0, 1,\n",
       "       1, 0, 1, 0, 1, 1, 1, 1, 1, 1, 1, 0, 0, 0, 1, 1, 0, 0, 1, 1, 0, 0,\n",
       "       1, 0, 0, 1, 0, 0, 0, 1, 0, 0, 0, 1, 0, 0, 1, 1, 0, 1, 0, 1, 0, 0,\n",
       "       1, 0, 0, 1, 0, 1, 0, 0, 0, 1, 0, 0, 0, 1, 1, 0, 1, 0, 1, 1, 0, 0,\n",
       "       0, 0, 1, 1, 0, 1, 1, 1, 1, 1, 1, 0, 0, 0, 0, 0, 0])"
      ]
     },
     "execution_count": 62,
     "metadata": {},
     "output_type": "execute_result"
    }
   ],
   "source": [
    "y_pred_test_1 = logreg_1.predict(X_test)\n",
    "\n",
    "y_pred_test_1"
   ]
  },
  {
   "cell_type": "code",
   "execution_count": 44,
   "id": "e3785750",
   "metadata": {
    "execution": {
     "iopub.execute_input": "2023-12-07T16:54:45.011916Z",
     "iopub.status.busy": "2023-12-07T16:54:45.011500Z",
     "iopub.status.idle": "2023-12-07T16:54:45.018115Z",
     "shell.execute_reply": "2023-12-07T16:54:45.016936Z"
    },
    "papermill": {
     "duration": 0.032829,
     "end_time": "2023-12-07T16:54:45.020583",
     "exception": false,
     "start_time": "2023-12-07T16:54:44.987754",
     "status": "completed"
    },
    "tags": []
   },
   "outputs": [
    {
     "name": "stdout",
     "output_type": "stream",
     "text": [
      "Model accuracy score: 0.9708\n"
     ]
    }
   ],
   "source": [
    "print('Model accuracy score: {0:0.4f}'. format(accuracy_score(y_test, y_pred_test_1)))"
   ]
  },
  {
   "cell_type": "markdown",
   "id": "6881b335",
   "metadata": {
    "papermill": {
     "duration": 0.021993,
     "end_time": "2023-12-07T16:54:45.065230",
     "exception": false,
     "start_time": "2023-12-07T16:54:45.043237",
     "status": "completed"
    },
    "tags": []
   },
   "source": [
    "We have got higher accuracy on the model now, Also it is closer to the training set accuracy, therefore no overfitting also we have accuracy higher than null accuracy too."
   ]
  },
  {
   "cell_type": "code",
   "execution_count": 45,
   "id": "e575f2de",
   "metadata": {
    "execution": {
     "iopub.execute_input": "2023-12-07T16:54:45.110971Z",
     "iopub.status.busy": "2023-12-07T16:54:45.110592Z",
     "iopub.status.idle": "2023-12-07T16:54:45.119408Z",
     "shell.execute_reply": "2023-12-07T16:54:45.118558Z"
    },
    "papermill": {
     "duration": 0.03451,
     "end_time": "2023-12-07T16:54:45.121775",
     "exception": false,
     "start_time": "2023-12-07T16:54:45.087265",
     "status": "completed"
    },
    "tags": []
   },
   "outputs": [
    {
     "name": "stdout",
     "output_type": "stream",
     "text": [
      "Confusion matrix\n",
      "\n",
      " [[102   5]\n",
      " [  0  64]]\n",
      "\n",
      "True Positives(TP) =  102\n",
      "\n",
      "True Negatives(TN) =  64\n",
      "\n",
      "False Positives(FP) =  5\n",
      "\n",
      "False Negatives(FN) =  0\n"
     ]
    }
   ],
   "source": [
    "# Print the Confusion Matrix and slice it into four categories\n",
    "\n",
    "from sklearn.metrics import confusion_matrix\n",
    "\n",
    "cm_1 = confusion_matrix(y_test, y_pred_test_1)\n",
    "\n",
    "print('Confusion matrix\\n\\n', cm_1)\n",
    "\n",
    "print('\\nTrue Positives(TP) = ', cm_1[0,0])\n",
    "\n",
    "print('\\nTrue Negatives(TN) = ', cm_1[1,1])\n",
    "\n",
    "print('\\nFalse Positives(FP) = ', cm_1[0,1])\n",
    "\n",
    "print('\\nFalse Negatives(FN) = ', cm_1[1,0])"
   ]
  },
  {
   "cell_type": "code",
   "execution_count": 46,
   "id": "c8219b32",
   "metadata": {
    "execution": {
     "iopub.execute_input": "2023-12-07T16:54:45.167899Z",
     "iopub.status.busy": "2023-12-07T16:54:45.167478Z",
     "iopub.status.idle": "2023-12-07T16:54:45.422209Z",
     "shell.execute_reply": "2023-12-07T16:54:45.421088Z"
    },
    "papermill": {
     "duration": 0.280651,
     "end_time": "2023-12-07T16:54:45.424656",
     "exception": false,
     "start_time": "2023-12-07T16:54:45.144005",
     "status": "completed"
    },
    "tags": []
   },
   "outputs": [
    {
     "data": {
      "text/plain": [
       "<Axes: >"
      ]
     },
     "execution_count": 46,
     "metadata": {},
     "output_type": "execute_result"
    },
    {
     "data": {
      "image/png": "[encoded data removed]",
      "text/plain": [
       "<Figure size 640x480 with 2 Axes>"
      ]
     },
     "metadata": {},
     "output_type": "display_data"
    }
   ],
   "source": [
    "# visualize confusion matrix with seaborn heatmap\n",
    "\n",
    "cm_matrix = pd.DataFrame(data=cm_1, columns=['Actual Positive:1', 'Actual Negative:0'], \n",
    "                                 index=['Predict Positive:1', 'Predict Negative:0'])\n",
    "\n",
    "sns.heatmap(cm_matrix, annot=True, fmt='d', cmap='YlGnBu')"
   ]
  },
  {
   "cell_type": "code",
   "execution_count": 47,
   "id": "51e16f0e",
   "metadata": {
    "execution": {
     "iopub.execute_input": "2023-12-07T16:54:45.472393Z",
     "iopub.status.busy": "2023-12-07T16:54:45.471649Z",
     "iopub.status.idle": "2023-12-07T16:54:45.485578Z",
     "shell.execute_reply": "2023-12-07T16:54:45.484062Z"
    },
    "papermill": {
     "duration": 0.040678,
     "end_time": "2023-12-07T16:54:45.487857",
     "exception": false,
     "start_time": "2023-12-07T16:54:45.447179",
     "status": "completed"
    },
    "tags": []
   },
   "outputs": [
    {
     "name": "stdout",
     "output_type": "stream",
     "text": [
      "              precision    recall  f1-score   support\n",
      "\n",
      "           0       1.00      0.95      0.98       107\n",
      "           1       0.93      1.00      0.96        64\n",
      "\n",
      "    accuracy                           0.97       171\n",
      "   macro avg       0.96      0.98      0.97       171\n",
      "weighted avg       0.97      0.97      0.97       171\n",
      "\n"
     ]
    }
   ],
   "source": [
    "print(classification_report(y_test, y_pred_test_1))"
   ]
  },
  {
   "cell_type": "code",
   "execution_count": 48,
   "id": "9b2d7f34",
   "metadata": {
    "execution": {
     "iopub.execute_input": "2023-12-07T16:54:45.535833Z",
     "iopub.status.busy": "2023-12-07T16:54:45.535058Z",
     "iopub.status.idle": "2023-12-07T16:54:45.736412Z",
     "shell.execute_reply": "2023-12-07T16:54:45.734985Z"
    },
    "papermill": {
     "duration": 0.228759,
     "end_time": "2023-12-07T16:54:45.739311",
     "exception": false,
     "start_time": "2023-12-07T16:54:45.510552",
     "status": "completed"
    },
    "tags": []
   },
   "outputs": [
    {
     "data": {
      "image/png": "[encoded data removed]",
      "text/plain": [
       "<Figure size 600x400 with 1 Axes>"
      ]
     },
     "metadata": {},
     "output_type": "display_data"
    }
   ],
   "source": [
    "# plot ROC Curve\n",
    "from sklearn.metrics import roc_curve\n",
    "import matplotlib.pyplot as plt\n",
    "\n",
    "fpr, tpr, thresholds = roc_curve(y_test, y_pred1)\n",
    "\n",
    "plt.figure(figsize=(6, 4))\n",
    "\n",
    "plt.plot(fpr, tpr, linewidth=2)\n",
    "\n",
    "plt.plot([0, 1], [0, 1], 'k--')\n",
    "\n",
    "plt.rcParams['font.size'] = 12\n",
    "\n",
    "plt.title('ROC curve')\n",
    "\n",
    "plt.xlabel('False Positive Rate (1 - Specificity)')\n",
    "\n",
    "plt.ylabel('True Positive Rate (Sensitivity)')\n",
    "\n",
    "plt.show()\n"
   ]
  },
  {
   "cell_type": "code",
   "execution_count": 49,
   "id": "2a229952",
   "metadata": {
    "execution": {
     "iopub.execute_input": "2023-12-07T16:54:45.790297Z",
     "iopub.status.busy": "2023-12-07T16:54:45.789128Z",
     "iopub.status.idle": "2023-12-07T16:54:45.801531Z",
     "shell.execute_reply": "2023-12-07T16:54:45.800294Z"
    },
    "papermill": {
     "duration": 0.039988,
     "end_time": "2023-12-07T16:54:45.803754",
     "exception": false,
     "start_time": "2023-12-07T16:54:45.763766",
     "status": "completed"
    },
    "tags": []
   },
   "outputs": [
    {
     "name": "stdout",
     "output_type": "stream",
     "text": [
      "ROC AUC : 0.9936\n"
     ]
    }
   ],
   "source": [
    "# compute ROC AUC\n",
    "\n",
    "from sklearn.metrics import roc_auc_score\n",
    "\n",
    "ROC_AUC = roc_auc_score(y_test,y_pred1)\n",
    "\n",
    "print('ROC AUC : {:.4f}'.format(ROC_AUC))"
   ]
  },
  {
   "cell_type": "markdown",
   "id": "08aa181b",
   "metadata": {},
   "source": []
  },
  {
   "cell_type": "markdown",
   "id": "d1d9a6b0",
   "metadata": {
    "papermill": {
     "duration": 0.023589,
     "end_time": "2023-12-07T16:54:45.852164",
     "exception": false,
     "start_time": "2023-12-07T16:54:45.828575",
     "status": "completed"
    },
    "tags": []
   },
   "source": [
    "let us try cross validation to see if it imporves accuracy of our model"
   ]
  },
  {
   "cell_type": "code",
   "execution_count": 50,
   "id": "35f79e9c",
   "metadata": {
    "execution": {
     "iopub.execute_input": "2023-12-07T16:54:45.901532Z",
     "iopub.status.busy": "2023-12-07T16:54:45.901122Z",
     "iopub.status.idle": "2023-12-07T16:54:45.949809Z",
     "shell.execute_reply": "2023-12-07T16:54:45.948596Z"
    },
    "papermill": {
     "duration": 0.076437,
     "end_time": "2023-12-07T16:54:45.952255",
     "exception": false,
     "start_time": "2023-12-07T16:54:45.875818",
     "status": "completed"
    },
    "tags": []
   },
   "outputs": [
    {
     "name": "stdout",
     "output_type": "stream",
     "text": [
      "Cross-validation scores:0.9746240243670284\n"
     ]
    }
   ],
   "source": [
    "# Applying 5-Fold Cross Validation\n",
    "\n",
    "from sklearn.model_selection import cross_val_score\n",
    "\n",
    "scores = cross_val_score(logreg_1, X_train, y_train, cv = 5, scoring='accuracy')\n",
    "\n",
    "print('Cross-validation scores:{}'.format(scores.mean()))"
   ]
  },
  {
   "cell_type": "markdown",
   "id": "186d6062",
   "metadata": {
    "papermill": {
     "duration": 0.023766,
     "end_time": "2023-12-07T16:54:46.000542",
     "exception": false,
     "start_time": "2023-12-07T16:54:45.976776",
     "status": "completed"
    },
    "tags": []
   },
   "source": [
    "Comparing with our orginal model score of 0.9708 it has not improved much so we need not apply cross validation"
   ]
  },
  {
   "cell_type": "markdown",
   "id": "1da17b4c",
   "metadata": {
    "papermill": {
     "duration": 0.023573,
     "end_time": "2023-12-07T16:54:46.047831",
     "exception": false,
     "start_time": "2023-12-07T16:54:46.024258",
     "status": "completed"
    },
    "tags": []
   },
   "source": [
    "So we are satisifed with our logistic regression model and it does a good job for us in predicting breast cancer at a lower threshold of 0.1."
   ]
  },
  {
   "cell_type": "markdown",
   "id": "b8444c84",
   "metadata": {
    "papermill": {
     "duration": 0.023362,
     "end_time": "2023-12-07T16:54:46.094830",
     "exception": false,
     "start_time": "2023-12-07T16:54:46.071468",
     "status": "completed"
    },
    "tags": []
   },
   "source": [
    "![](https://contenthub-static.grammarly.com/blog/wp-content/uploads/2019/02/bmd-4584.png)"
   ]
  }
 ],
 "metadata": {
  "kaggle": {
   "accelerator": "none",
   "dataSources": [
    {
     "datasetId": 2794924,
     "sourceId": 4824720,
     "sourceType": "datasetVersion"
    }
   ],
   "dockerImageVersionId": 30579,
   "isGpuEnabled": false,
   "isInternetEnabled": true,
   "language": "python",
   "sourceType": "notebook"
  },
  "kernelspec": {
   "display_name": "Python 3",
   "language": "python",
   "name": "python3"
  },
  "language_info": {
   "codemirror_mode": {
    "name": "ipython",
    "version": 3
   },
   "file_extension": ".py",
   "mimetype": "text/x-python",
   "name": "python",
   "nbconvert_exporter": "python",
   "pygments_lexer": "ipython3",
   "version": "3.11.3"
  },
  "papermill": {
   "default_parameters": {},
   "duration": 13.016307,
   "end_time": "2023-12-07T16:54:46.840236",
   "environment_variables": {},
   "exception": null,
   "input_path": "__notebook__.ipynb",
   "output_path": "__notebook__.ipynb",
   "parameters": {},
   "start_time": "2023-12-07T16:54:33.823929",
   "version": "2.4.0"
  }
 },
 "nbformat": 4,
 "nbformat_minor": 5
}
